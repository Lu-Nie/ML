{
 "cells": [
  {
   "cell_type": "code",
   "execution_count": null,
   "metadata": {},
   "outputs": [],
   "source": [
    "import os\n",
    "import numpy as np\n",
    "import DataPreprocessing as DP\n",
    "from matplotlib import pyplot as plt\n",
    "from astropy.io import fits\n",
    "import tensorflow as tf\n",
    "\n",
    "import time\n",
    "Tstart = time.time()"
   ]
  },
  {
   "cell_type": "code",
   "execution_count": null,
   "metadata": {},
   "outputs": [],
   "source": [
    "#os.environ[\"CUDA_VISIBLE_DEVICES\"]=\"0\" #for GPU usagegpus = tf.config.experimental.list_physical_devices(device_type='XLA_GPU')\n",
    "gpus = tf.config.experimental.list_physical_devices(device_type='XLA_GPU')\n",
    "print(gpus)\n",
    "tf.config.experimental.set_visible_devices(devices=gpus, device_type='XLA_GPU')"
   ]
  },
  {
   "cell_type": "code",
   "execution_count": null,
   "metadata": {},
   "outputs": [],
   "source": [
    "#norm spectrum\n",
    "kinds = ['boss_cv','boss_da+ms','boss_db','boss_db+ms','boss_dq','boss_dz','fgkm','hotstars','wd','wdsb2','yso','hotstars_m']\n",
    "flux_cv, spectrum_cv = DP.Preprocessing7('/home/njl/ML/optical/'+kinds[0]+'/'+'*.fit')\n",
    "flux_dams, spectrum_dams = DP.Preprocessing7('/home/njl/ML/optical/'+kinds[1]+'/'+'*.fit')\n",
    "flux_db, spectrum_db = DP.Preprocessing7('/home/njl/ML/optical/'+kinds[2]+'/'+'*.fit')\n",
    "\n",
    "#delate bad data\n",
    "n = 0\n",
    "for i in range(len(spectrum_db)):\n",
    "    if len(spectrum_db[i][0]) < 4096:\n",
    "        n = i\n",
    "flux_db.pop(n)\n",
    "spectrum_db.pop(n)\n",
    "\n",
    "l_list =  flux_cv+flux_dams+flux_db\n",
    "sl = []\n",
    "for i in range(len(l_list)):\n",
    "    sl.append(len(l_list[i]))\n",
    "sl_min = np.min(sl)\n",
    "X_train = []\n",
    "for i in range(len(l_list)):\n",
    "    X_train.append(l_list[i][0:sl_min])\n",
    "size = 4552\n",
    "X_train = np.array(X_train)"
   ]
  }
 ],
 "metadata": {
  "kernelspec": {
   "display_name": "Python 3",
   "language": "python",
   "name": "python3"
  },
  "language_info": {
   "codemirror_mode": {
    "name": "ipython",
    "version": 3
   },
   "file_extension": ".py",
   "mimetype": "text/x-python",
   "name": "python",
   "nbconvert_exporter": "python",
   "pygments_lexer": "ipython3",
   "version": "3.7.2"
  }
 },
 "nbformat": 4,
 "nbformat_minor": 2
}
