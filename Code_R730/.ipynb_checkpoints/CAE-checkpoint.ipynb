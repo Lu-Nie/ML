{
 "cells": [
  {
   "cell_type": "code",
   "execution_count": 1,
   "metadata": {},
   "outputs": [],
   "source": [
    "import os\n",
    "#os.environ[\"CUDA_VISIBLE_DEVICES\"]=\"0\" #for GPU usage\n",
    "#import matplotlib as mpl\n",
    "#mpl.use('Agg')\n",
    "import numpy as np\n",
    "from keras.layers import Input, Dense, Conv2D, MaxPooling2D, UpSampling2D, Flatten, Reshape\n",
    "from keras.layers import Conv1D, MaxPooling1D, UpSampling1D\n",
    "from keras.models import Model\n",
    "from keras import backend as K\n",
    "from keras import callbacks, optimizers\n",
    "from keras.utils import multi_gpu_model\n",
    "import tensorflow as tf\n",
    "\n",
    "import DataPreprocessing as DP\n",
    "from matplotlib import pyplot as plt\n",
    "from astropy.io import fits\n",
    "#from skimage import exposure\n",
    "#------------------------------------------------------------------------#\n",
    "import time\n",
    "Tstart = time.time() #Timer start\n"
   ]
  },
  {
   "cell_type": "code",
   "execution_count": 2,
   "metadata": {},
   "outputs": [
    {
     "name": "stdout",
     "output_type": "stream",
     "text": [
      "[PhysicalDevice(name='/physical_device:XLA_GPU:0', device_type='XLA_GPU')]\n"
     ]
    }
   ],
   "source": [
    "# 使用第一张与第三张GPU卡\n",
    "os.environ[\"CUDA_VISIBLE_DEVICES\"] = \"1\"\n",
    "gpus = tf.config.experimental.list_physical_devices(device_type='XLA_GPU')\n",
    "#cpus = tf.config.experimental.list_physical_devices(device_type='CPU')\n",
    "print(gpus)\n",
    "tf.config.experimental.set_visible_devices(devices=gpus[0], device_type='XLA_GPU')"
   ]
  },
  {
   "cell_type": "code",
   "execution_count": 3,
   "metadata": {},
   "outputs": [],
   "source": [
    "#norm spectrum\n",
    "kinds = ['boss_cv','boss_da+ms','boss_db','boss_db+ms','boss_dq','boss_dz','fgkm','hotstars','wd','wdsb2','yso','hotstars_m']\n",
    "flux_cv, spectrum_cv = DP.Preprocessing7('/home/njl/ML/optical/'+kinds[0]+'/'+'*.fit')\n",
    "flux_dams, spectrum_dams = DP.Preprocessing7('/home/njl/ML/optical/'+kinds[1]+'/'+'*.fit')\n",
    "flux_db, spectrum_db = DP.Preprocessing7('/home/njl/ML/optical/'+kinds[2]+'/'+'*.fit')"
   ]
  },
  {
   "cell_type": "code",
   "execution_count": 4,
   "metadata": {},
   "outputs": [
    {
     "data": {
      "text/plain": [
       "[array([5282.0195, 5283.235 , 5284.453 , 5285.669 , 5286.8877, 5288.104 ,\n",
       "        5289.323 , 5290.54  , 5291.7573, 5292.9775, 5294.1953, 5295.416 ,\n",
       "        5296.6343, 5297.8555, 5299.074 , 5300.2935, 5301.5156, 5302.7354,\n",
       "        5303.958 , 5305.178 , 5306.4014, 5307.622 , 5308.8433, 5310.0674,\n",
       "        5311.289 , 5312.5137, 5313.736 , 5314.9614, 5316.184 , 5317.407 ,\n",
       "        5318.6333, 5319.857 , 5321.0835, 5322.3076, 5323.5347, 5324.76  ,\n",
       "        5325.9844, 5327.213 , 5328.438 , 5329.667 , 5330.893 , 5332.122 ,\n",
       "        5333.349 , 5334.5757, 5335.806 , 5337.0337, 5338.264 , 5339.492 ,\n",
       "        5340.7236, 5341.952 , 5343.181 , 5344.413 , 5345.6426, 5346.8755,\n",
       "        5348.1055, 5349.339 , 5350.5693, 5351.8003, 5353.034 , 5354.2656,\n",
       "        5355.5005, 5356.7324, 5357.968 , 5359.2   , 5360.433 , 5361.6694,\n",
       "        5362.903 , 5364.139 , 5365.3735, 5366.611 , 5367.845 , 5369.08  ,\n",
       "        5370.3184, 5371.5537, 5372.7925, 5374.0283, 5375.2676, 5376.504 ,\n",
       "        5377.744 , 5378.981 , 5380.2183, 5381.459 , 5382.6973, 5383.9385,\n",
       "        5385.177 , 5386.419 , 5387.6577, 5388.8975, 5390.14  , 5391.38  ,\n",
       "        5392.623 , 5393.864 , 5395.1074, 5396.3486, 5397.5903, 5398.835 ,\n",
       "        5400.0767, 5401.3223, 5402.5645, 5403.8105, 5405.0537, 5406.297 ,\n",
       "        5407.544 , 5408.7876, 5410.035 , 5411.28  , 5412.5273, 5413.7725,\n",
       "        5415.018 , 5416.2666, 5417.5127, 5418.7617, 5420.0083, 5421.2583,\n",
       "        5422.5054, 5423.753 , 5425.0034, 5426.2515, 5427.503 , 5428.7515,\n",
       "        5430.0034, 5431.2524, 5432.502 , 5433.755 , 5435.005 , 5436.258 ,\n",
       "        5437.509 , 5438.7627, 5440.0137, 5441.265 , 5442.52  , 5443.772 ,\n",
       "        5445.0273, 5446.28  , 5447.5356, 5448.789 , 5450.0425, 5451.2993,\n",
       "        5452.553 , 5453.8105, 5455.0654, 5456.323 , 5457.5786, 5458.834 ,\n",
       "        5460.093 , 5461.3486, 5462.6084, 5463.8647, 5465.125 , 5466.3823,\n",
       "        5467.6396, 5468.9004, 5470.1587, 5471.42  , 5472.6787, 5473.9404,\n",
       "        5475.1997, 5476.4624, 5477.722 , 5478.9824, 5480.246 , 5481.507 ,\n",
       "        5482.7705, 5484.032 , 5485.2964, 5486.5586, 5487.821 , 5489.086 ,\n",
       "        5490.349 , 5491.6147, 5492.8784, 5494.145 , 5495.4087, 5496.673 ,\n",
       "        5497.9404, 5499.2056, 5500.4736, 5501.739 , 5503.0073, 5504.2734,\n",
       "        5505.5396, 5506.8096, 5508.076 , 5509.346 , 5510.614 , 5511.8843,\n",
       "        5513.1523, 5514.421 , 5515.6924, 5516.9614, 5518.2334, 5519.503 ,\n",
       "        5520.776 , 5522.046 , 5523.316 , 5524.59  , 5525.861 , 5527.135 ,\n",
       "        5528.4062, 5529.681 , 5530.9536, 5532.2256, 5533.5015, 5534.7744,\n",
       "        5536.051 ], dtype=float32),\n",
       " array([nan, nan, nan, nan, nan, nan, nan, nan, nan, nan, nan, nan, nan,\n",
       "        nan, nan, nan, nan, nan, nan, nan, nan, nan, nan, nan, nan, nan,\n",
       "        nan, nan, nan, nan, nan, nan, nan, nan, nan, nan, nan, nan, nan,\n",
       "        nan, nan, nan, nan, nan, nan, nan, nan, nan, nan, nan, nan, nan,\n",
       "        nan, nan, nan, nan, nan, nan, nan, nan, nan, nan, nan, nan, nan,\n",
       "        nan, nan, nan, nan, nan, nan, nan, nan, nan, nan, nan, nan, nan,\n",
       "        nan, nan, nan, nan, nan, nan, nan, nan, nan, nan, nan, nan, nan,\n",
       "        nan, nan, nan, nan, nan, nan, nan, nan, nan, nan, nan, nan, nan,\n",
       "        nan, nan, nan, nan, nan, nan, nan, nan, nan, nan, nan, nan, nan,\n",
       "        nan, nan, nan, nan, nan, nan, nan, nan, nan, nan, nan, nan, nan,\n",
       "        nan, nan, nan, nan, nan, nan, nan, nan, nan, nan, nan, nan, nan,\n",
       "        nan, nan, nan, nan, nan, nan, nan, nan, nan, nan, nan, nan, nan,\n",
       "        nan, nan, nan, nan, nan, nan, nan, nan, nan, nan, nan, nan, nan,\n",
       "        nan, nan, nan, nan, nan, nan, nan, nan, nan, nan, nan, nan, nan,\n",
       "        nan, nan, nan, nan, nan, nan, nan, nan, nan, nan, nan, nan, nan,\n",
       "        nan, nan, nan, nan, nan, nan, nan, nan, nan, nan], dtype=float32)]"
      ]
     },
     "execution_count": 4,
     "metadata": {},
     "output_type": "execute_result"
    }
   ],
   "source": [
    "#delate bad data\n",
    "n = 0\n",
    "for i in range(len(spectrum_db)):\n",
    "    if len(spectrum_db[i][0]) < 4096:\n",
    "        n = i\n",
    "flux_db.pop(n)\n",
    "spectrum_db.pop(n)"
   ]
  },
  {
   "cell_type": "code",
   "execution_count": 5,
   "metadata": {},
   "outputs": [
    {
     "name": "stdout",
     "output_type": "stream",
     "text": [
      "(1214, 4552)\n"
     ]
    }
   ],
   "source": [
    "#input spectrum\n",
    "l_list =  flux_cv+flux_dams+flux_db\n",
    "sl = []\n",
    "for i in range(len(l_list)):\n",
    "    sl.append(len(l_list[i]))\n",
    "sl_min = np.min(sl)\n",
    "X_train = []\n",
    "for i in range(len(l_list)):\n",
    "    X_train.append(l_list[i][0:sl_min])\n",
    "size = 4552\n",
    "#X_train = l_list\n",
    "X_train = np.stack(X_train)\n",
    "#X_train = X_train.reshape(len(X_train),size,1) #change the shape to NHWC for CAE input\n",
    "X_train = X_train.reshape(len(X_train),size)\n",
    "print(X_train.shape) #print information of training samples"
   ]
  },
  {
   "cell_type": "code",
   "execution_count": 6,
   "metadata": {},
   "outputs": [],
   "source": [
    "#input_spe = Input(shape=(4552,1))\n",
    "input_spe = Input(shape=4552)"
   ]
  },
  {
   "cell_type": "code",
   "execution_count": 7,
   "metadata": {},
   "outputs": [
    {
     "name": "stdout",
     "output_type": "stream",
     "text": [
      "Model: \"model\"\n",
      "_________________________________________________________________\n",
      "Layer (type)                 Output Shape              Param #   \n",
      "=================================================================\n",
      "input_1 (InputLayer)         [(None, 4552, 1)]         0         \n",
      "_________________________________________________________________\n",
      "conv1d (Conv1D)              (None, 4552, 16)          64        \n",
      "_________________________________________________________________\n",
      "max_pooling1d (MaxPooling1D) (None, 569, 16)           0         \n",
      "_________________________________________________________________\n",
      "conv1d_1 (Conv1D)            (None, 569, 8)            392       \n",
      "_________________________________________________________________\n",
      "max_pooling1d_1 (MaxPooling1 (None, 72, 8)             0         \n",
      "_________________________________________________________________\n",
      "flatten (Flatten)            (None, 576)               0         \n",
      "_________________________________________________________________\n",
      "dense (Dense)                (None, 256)               147712    \n",
      "_________________________________________________________________\n",
      "dense_1 (Dense)              (None, 128)               32896     \n",
      "_________________________________________________________________\n",
      "embedding (Dense)            (None, 96)                12384     \n",
      "_________________________________________________________________\n",
      "dense_2 (Dense)              (None, 128)               12416     \n",
      "_________________________________________________________________\n",
      "dense_3 (Dense)              (None, 256)               33024     \n",
      "_________________________________________________________________\n",
      "dense_4 (Dense)              (None, 576)               148032    \n",
      "_________________________________________________________________\n",
      "reshape (Reshape)            (None, 72, 8)             0         \n",
      "_________________________________________________________________\n",
      "conv1d_2 (Conv1D)            (None, 72, 8)             200       \n",
      "_________________________________________________________________\n",
      "up_sampling1d (UpSampling1D) (None, 576, 8)            0         \n",
      "_________________________________________________________________\n",
      "conv1d_3 (Conv1D)            (None, 576, 16)           400       \n",
      "_________________________________________________________________\n",
      "up_sampling1d_1 (UpSampling1 (None, 4608, 16)          0         \n",
      "_________________________________________________________________\n",
      "dense_5 (Dense)              (None, 4608, 1)           17        \n",
      "=================================================================\n",
      "Total params: 387,537\n",
      "Trainable params: 387,537\n",
      "Non-trainable params: 0\n",
      "_________________________________________________________________\n",
      "None\n"
     ]
    }
   ],
   "source": [
    "# x = Conv1D(256, 9, activation='relu', padding='same')(input_spe)#(4096,256)\n",
    "# x = MaxPooling1D(2, padding='same')(x)#(2048,256)\n",
    "# x = Conv1D(128, 8, activation='relu', padding='same')(x)#(2048,128)\n",
    "# x = MaxPooling1D(2, padding='same')(x)#(1024,128)\n",
    "# x = Conv1D(64, 7, activation='relu', padding='same')(x)#(1024,64)\n",
    "# x = MaxPooling1D(2, padding='same')(x)#(512,64)\n",
    "# x = Conv1D(32, 3, activation='relu', padding='same')(x)#(512,32)\n",
    "# x = MaxPooling1D(2, padding='same')(x)#(256,32)\n",
    "x = Conv1D(16, 3, activation='relu', padding='same')(input_spe)#(4552,16)\n",
    "x = MaxPooling1D(8, padding='same')(x)#(569,16)\n",
    "x = Conv1D(8, 3, activation='relu', padding='same')(x)#(569,8)\n",
    "x = MaxPooling1D(8, padding='same')(x)#(72,8)\n",
    "\n",
    "x = Flatten()(x)\n",
    "x = Dense(units=256, activation='relu')(x)\n",
    "x = Dense(units=128, activation='relu')(x)\n",
    "encoded = Dense(units=96, activation='relu', name='embedding')(x)\n",
    "x = Dense(units=128, activation='relu')(encoded)\n",
    "x = Dense(units=256, activation='relu')(x)\n",
    "x = Dense(units=576, activation='relu')(x)\n",
    "x = Reshape((72,8))(x)\n",
    "x.shape\n",
    "\n",
    "x = Conv1D(8, 3, activation='relu', padding='same')(x)#(72,8)\n",
    "x = UpSampling1D(8)(x)#(576,8)\n",
    "x = Conv1D(16, 3, activation='relu', padding='same')(x)#(576,16)\n",
    "x = UpSampling1D(8)(x)#(4608,16)\n",
    "# # x = Conv1D(32, 3, activation='relu', padding='same')(x)#\n",
    "# # x = UpSampling1D(2)(x)#(512,32)\n",
    "# # x = Conv1D(64, 7, activation='relu', padding='same')(x)#(512,64)\n",
    "# # x = UpSampling1D(2)(x)#(1024,64)\n",
    "# # x = Conv1D(128, 8, activation='relu', padding='same')(x)#(1024,128)\n",
    "# # x = UpSampling1D(2)(x)#(2048,128)\n",
    "# # x = Conv1D(256, 9, activation='relu', padding='same')(x)#(2048,256)\n",
    "# # x = UpSampling1D(2)(x)#(4096,256)\n",
    "decoded = Dense(1,activation='softmax')(x)\n",
    "\n",
    "autoencoder = Model(input_spe, decoded)\n",
    "#autoencoder = multi_gpu_model(input_spe, decoded)\n",
    "optimizer_adam = optimizers.Adam(lr=0.001)\n",
    "autoencoder.compile(optimizer=optimizer_adam, loss='categorical_crossentropy', metrics=['accuracy'])####loss function\n",
    "#autoencoder.compile(loss='categorical_crossentropy', optimizer='adam', metrics=['accuracy'])\n",
    "print(autoencoder.summary())"
   ]
  },
  {
   "cell_type": "code",
   "execution_count": 7,
   "metadata": {},
   "outputs": [
    {
     "name": "stdout",
     "output_type": "stream",
     "text": [
      "Model: \"model\"\n",
      "_________________________________________________________________\n",
      "Layer (type)                 Output Shape              Param #   \n",
      "=================================================================\n",
      "input_1 (InputLayer)         [(None, 4552)]            0         \n",
      "_________________________________________________________________\n",
      "embedding (Dense)            (None, 2)                 9106      \n",
      "_________________________________________________________________\n",
      "dense (Dense)                (None, 4552)              13656     \n",
      "=================================================================\n",
      "Total params: 22,762\n",
      "Trainable params: 22,762\n",
      "Non-trainable params: 0\n",
      "_________________________________________________________________\n",
      "None\n"
     ]
    }
   ],
   "source": [
    "encoded = Dense(units=2, activation='relu', name='embedding')(input_spe)\n",
    "decoded = Dense(4552, activation='sigmoid')(encoded) \n",
    "autoencoder = Model(input_spe, decoded)\n",
    "optimizer_adam = optimizers.Adam(lr=0.001)\n",
    "autoencoder.compile(optimizer=optimizer_adam, loss='categorical_crossentropy',metrics=['accuracy'])####loss function\n",
    "print(autoencoder.summary())"
   ]
  },
  {
   "cell_type": "code",
   "execution_count": 8,
   "metadata": {},
   "outputs": [],
   "source": [
    "Nepochs = 100 #number of epochs for CAE training\n",
    "tosavemodel = True #if save the trained CAE model\n",
    "plot_reconstruction = True #if plot the reconstruction comparison\n",
    "savename = 'AE_reconstruction' #setup if \"tosavemodel=True\" or \"plot_reconstuction=True\""
   ]
  },
  {
   "cell_type": "code",
   "execution_count": 9,
   "metadata": {},
   "outputs": [
    {
     "name": "stdout",
     "output_type": "stream",
     "text": [
      "\n",
      " ## DATE PREPARATION RUNTIME: 49.006367921829224\n",
      "Epoch 1/100\n",
      "38/38 [==============================] - 0s 4ms/step - loss: 35605.4766 - accuracy: 0.0000e+00\n",
      "Epoch 2/100\n",
      "38/38 [==============================] - 0s 4ms/step - loss: 34682.6250 - accuracy: 0.0025\n",
      "Epoch 3/100\n",
      "38/38 [==============================] - 0s 4ms/step - loss: 34404.3438 - accuracy: 0.0033\n",
      "Epoch 4/100\n",
      "38/38 [==============================] - 0s 4ms/step - loss: 34140.2422 - accuracy: 0.0033\n",
      "Epoch 5/100\n",
      "38/38 [==============================] - 0s 4ms/step - loss: 33869.4062 - accuracy: 0.0066\n",
      "Epoch 6/100\n",
      "38/38 [==============================] - 0s 4ms/step - loss: 33718.5586 - accuracy: 0.0041\n",
      "Epoch 7/100\n",
      "38/38 [==============================] - 0s 4ms/step - loss: 33549.1250 - accuracy: 0.0041\n",
      "Epoch 8/100\n",
      "38/38 [==============================] - 0s 4ms/step - loss: 33475.6328 - accuracy: 0.0049\n",
      "Epoch 9/100\n",
      "38/38 [==============================] - 0s 4ms/step - loss: 33380.2578 - accuracy: 0.0025\n",
      "Epoch 10/100\n",
      "38/38 [==============================] - 0s 4ms/step - loss: 33310.4961 - accuracy: 0.0058\n",
      "Epoch 11/100\n",
      "38/38 [==============================] - 0s 4ms/step - loss: 33239.1211 - accuracy: 0.0041\n",
      "Epoch 12/100\n",
      "38/38 [==============================] - 0s 4ms/step - loss: 33179.6445 - accuracy: 0.0041\n",
      "Epoch 13/100\n",
      "38/38 [==============================] - 0s 4ms/step - loss: 33143.7773 - accuracy: 0.0041\n",
      "Epoch 14/100\n",
      "38/38 [==============================] - 0s 4ms/step - loss: 33124.9414 - accuracy: 0.0074\n",
      "Epoch 15/100\n",
      "38/38 [==============================] - 0s 4ms/step - loss: 33085.4609 - accuracy: 0.0099\n",
      "Epoch 16/100\n",
      "38/38 [==============================] - 0s 4ms/step - loss: 33124.8398 - accuracy: 0.0132\n",
      "Epoch 17/100\n",
      "38/38 [==============================] - 0s 4ms/step - loss: 33147.6172 - accuracy: 0.0239\n",
      "Epoch 18/100\n",
      "38/38 [==============================] - 0s 4ms/step - loss: 33074.6445 - accuracy: 0.0157\n",
      "Epoch 19/100\n",
      "38/38 [==============================] - 0s 4ms/step - loss: 33043.6523 - accuracy: 0.0082\n",
      "Epoch 20/100\n",
      "38/38 [==============================] - 0s 4ms/step - loss: 33013.4375 - accuracy: 0.0132\n",
      "Epoch 21/100\n",
      "38/38 [==============================] - 0s 4ms/step - loss: 32989.2773 - accuracy: 0.0157\n",
      "Epoch 22/100\n",
      "38/38 [==============================] - 0s 4ms/step - loss: 32988.0000 - accuracy: 0.0140\n",
      "Epoch 23/100\n",
      "38/38 [==============================] - 0s 4ms/step - loss: 32972.5898 - accuracy: 0.0173\n",
      "Epoch 24/100\n",
      "38/38 [==============================] - 0s 4ms/step - loss: 32962.8359 - accuracy: 0.0157\n",
      "Epoch 25/100\n",
      "38/38 [==============================] - 0s 4ms/step - loss: 32957.6797 - accuracy: 0.0189\n",
      "Epoch 26/100\n",
      "38/38 [==============================] - 0s 4ms/step - loss: 32934.1328 - accuracy: 0.0206\n",
      "Epoch 27/100\n",
      "38/38 [==============================] - 0s 4ms/step - loss: 32920.1289 - accuracy: 0.0173\n",
      "Epoch 28/100\n",
      "38/38 [==============================] - 0s 4ms/step - loss: 32916.9648 - accuracy: 0.0198\n",
      "Epoch 29/100\n",
      "38/38 [==============================] - 0s 4ms/step - loss: 32910.8828 - accuracy: 0.0264\n",
      "Epoch 30/100\n",
      "38/38 [==============================] - 0s 4ms/step - loss: 32906.4336 - accuracy: 0.0206\n",
      "Epoch 31/100\n",
      "38/38 [==============================] - 0s 4ms/step - loss: 32889.1211 - accuracy: 0.0206\n",
      "Epoch 32/100\n",
      "38/38 [==============================] - 0s 4ms/step - loss: 32903.7188 - accuracy: 0.0198\n",
      "Epoch 33/100\n",
      "38/38 [==============================] - 0s 4ms/step - loss: 32884.8320 - accuracy: 0.0189\n",
      "Epoch 34/100\n",
      "38/38 [==============================] - 0s 4ms/step - loss: 32887.2500 - accuracy: 0.0189\n",
      "Epoch 35/100\n",
      "38/38 [==============================] - 0s 4ms/step - loss: 32893.4219 - accuracy: 0.0198\n",
      "Epoch 36/100\n",
      "38/38 [==============================] - 0s 4ms/step - loss: 32922.0938 - accuracy: 0.0181\n",
      "Epoch 37/100\n",
      "38/38 [==============================] - 0s 4ms/step - loss: 32926.0508 - accuracy: 0.0165\n",
      "Epoch 38/100\n",
      "38/38 [==============================] - 0s 4ms/step - loss: 32884.3672 - accuracy: 0.0214\n",
      "Epoch 39/100\n",
      "38/38 [==============================] - 0s 4ms/step - loss: 32919.1094 - accuracy: 0.0173\n",
      "Epoch 40/100\n",
      "38/38 [==============================] - 0s 4ms/step - loss: 32894.6250 - accuracy: 0.0222\n",
      "Epoch 41/100\n",
      "38/38 [==============================] - 0s 4ms/step - loss: 32874.8086 - accuracy: 0.0206\n",
      "Epoch 42/100\n",
      "38/38 [==============================] - 0s 4ms/step - loss: 32877.5703 - accuracy: 0.0181\n",
      "Epoch 43/100\n",
      "38/38 [==============================] - 0s 4ms/step - loss: 32872.3711 - accuracy: 0.0214\n",
      "Epoch 44/100\n",
      "38/38 [==============================] - 0s 4ms/step - loss: 32860.4336 - accuracy: 0.0181\n",
      "Epoch 45/100\n",
      "38/38 [==============================] - 0s 4ms/step - loss: 32886.7891 - accuracy: 0.0173\n",
      "Epoch 46/100\n",
      "38/38 [==============================] - 0s 4ms/step - loss: 32870.5703 - accuracy: 0.0239\n",
      "Epoch 47/100\n",
      "38/38 [==============================] - 0s 4ms/step - loss: 32847.6133 - accuracy: 0.0214\n",
      "Epoch 48/100\n",
      "38/38 [==============================] - 0s 4ms/step - loss: 32849.2734 - accuracy: 0.0148\n",
      "Epoch 49/100\n",
      "38/38 [==============================] - 0s 4ms/step - loss: 32841.1602 - accuracy: 0.0198\n",
      "Epoch 50/100\n",
      "38/38 [==============================] - 0s 4ms/step - loss: 32839.2070 - accuracy: 0.0198\n",
      "Epoch 51/100\n",
      "38/38 [==============================] - 0s 4ms/step - loss: 32836.7227 - accuracy: 0.0198\n",
      "Epoch 52/100\n",
      "38/38 [==============================] - 0s 4ms/step - loss: 32839.6367 - accuracy: 0.0214\n",
      "Epoch 53/100\n",
      "38/38 [==============================] - 0s 4ms/step - loss: 32836.0508 - accuracy: 0.0206\n",
      "Epoch 54/100\n",
      "38/38 [==============================] - 0s 4ms/step - loss: 32811.6680 - accuracy: 0.0214\n",
      "Epoch 55/100\n",
      "38/38 [==============================] - 0s 4ms/step - loss: 32825.7109 - accuracy: 0.0239\n",
      "Epoch 56/100\n",
      "38/38 [==============================] - 0s 4ms/step - loss: 32827.5156 - accuracy: 0.0189\n",
      "Epoch 57/100\n",
      "38/38 [==============================] - 0s 4ms/step - loss: 32812.3047 - accuracy: 0.0181\n",
      "Epoch 58/100\n",
      "38/38 [==============================] - 0s 4ms/step - loss: 32826.6602 - accuracy: 0.0231\n",
      "Epoch 59/100\n",
      "38/38 [==============================] - 0s 4ms/step - loss: 32805.3906 - accuracy: 0.0173\n",
      "Epoch 60/100\n",
      "38/38 [==============================] - 0s 4ms/step - loss: 32835.0664 - accuracy: 0.0189\n",
      "Epoch 61/100\n",
      "38/38 [==============================] - 0s 4ms/step - loss: 32826.3438 - accuracy: 0.0198\n",
      "Epoch 62/100\n",
      "38/38 [==============================] - 0s 4ms/step - loss: 32798.3242 - accuracy: 0.0206\n",
      "Epoch 63/100\n",
      "38/38 [==============================] - 0s 4ms/step - loss: 32779.6289 - accuracy: 0.0198\n",
      "Epoch 64/100\n",
      "38/38 [==============================] - 0s 4ms/step - loss: 32769.5156 - accuracy: 0.0231\n",
      "Epoch 65/100\n",
      "38/38 [==============================] - 0s 4ms/step - loss: 32783.0742 - accuracy: 0.0214\n",
      "Epoch 66/100\n",
      "38/38 [==============================] - 0s 4ms/step - loss: 32783.6758 - accuracy: 0.0214\n",
      "Epoch 67/100\n",
      "38/38 [==============================] - 0s 4ms/step - loss: 32798.7344 - accuracy: 0.0206\n",
      "Epoch 68/100\n",
      "38/38 [==============================] - 0s 4ms/step - loss: 32790.0547 - accuracy: 0.0222\n",
      "Epoch 69/100\n",
      "38/38 [==============================] - 0s 4ms/step - loss: 32799.8125 - accuracy: 0.0157\n",
      "Epoch 70/100\n",
      "38/38 [==============================] - 0s 4ms/step - loss: 32817.4766 - accuracy: 0.0189\n",
      "Epoch 71/100\n",
      "38/38 [==============================] - 0s 4ms/step - loss: 32786.7461 - accuracy: 0.0206\n",
      "Epoch 72/100\n",
      "38/38 [==============================] - 0s 4ms/step - loss: 32768.4727 - accuracy: 0.0189\n",
      "Epoch 73/100\n",
      "38/38 [==============================] - 0s 4ms/step - loss: 32762.6367 - accuracy: 0.0222\n",
      "Epoch 74/100\n",
      "38/38 [==============================] - 0s 4ms/step - loss: 32765.4297 - accuracy: 0.0198\n",
      "Epoch 75/100\n",
      "38/38 [==============================] - 0s 4ms/step - loss: 32773.4805 - accuracy: 0.0214\n",
      "Epoch 76/100\n",
      "38/38 [==============================] - 0s 4ms/step - loss: 32767.1113 - accuracy: 0.0222\n",
      "Epoch 77/100\n",
      "38/38 [==============================] - 0s 4ms/step - loss: 32761.4375 - accuracy: 0.0239\n",
      "Epoch 78/100\n",
      "38/38 [==============================] - 0s 4ms/step - loss: 32765.9941 - accuracy: 0.0239\n",
      "Epoch 79/100\n"
     ]
    },
    {
     "name": "stdout",
     "output_type": "stream",
     "text": [
      "38/38 [==============================] - 0s 4ms/step - loss: 32762.4277 - accuracy: 0.0214\n",
      "Epoch 80/100\n",
      "38/38 [==============================] - 0s 4ms/step - loss: 32759.2090 - accuracy: 0.0181\n",
      "Epoch 81/100\n",
      "38/38 [==============================] - 0s 4ms/step - loss: 32762.8047 - accuracy: 0.0198\n",
      "Epoch 82/100\n",
      "38/38 [==============================] - 0s 4ms/step - loss: 32772.8047 - accuracy: 0.0198\n",
      "Epoch 83/100\n",
      "38/38 [==============================] - 0s 4ms/step - loss: 32775.5898 - accuracy: 0.0222\n",
      "Epoch 84/100\n",
      "38/38 [==============================] - 0s 4ms/step - loss: 32785.4102 - accuracy: 0.0206\n",
      "Epoch 85/100\n",
      "38/38 [==============================] - 0s 4ms/step - loss: 32763.8555 - accuracy: 0.0214\n",
      "Epoch 86/100\n",
      "38/38 [==============================] - 0s 4ms/step - loss: 32766.7871 - accuracy: 0.0222\n",
      "Epoch 87/100\n",
      "38/38 [==============================] - 0s 4ms/step - loss: 32755.9336 - accuracy: 0.0222\n",
      "Epoch 88/100\n",
      "38/38 [==============================] - 0s 4ms/step - loss: 32748.8730 - accuracy: 0.0214\n",
      "Epoch 89/100\n",
      "38/38 [==============================] - 0s 5ms/step - loss: 32757.9531 - accuracy: 0.0173\n",
      "Epoch 90/100\n",
      "38/38 [==============================] - 0s 5ms/step - loss: 32746.8047 - accuracy: 0.0214\n",
      "Epoch 91/100\n",
      "38/38 [==============================] - 0s 4ms/step - loss: 32754.0098 - accuracy: 0.0198\n",
      "Epoch 92/100\n",
      "38/38 [==============================] - 0s 4ms/step - loss: 32803.9453 - accuracy: 0.0214\n",
      "Epoch 93/100\n",
      "38/38 [==============================] - 0s 4ms/step - loss: 32762.9941 - accuracy: 0.0173\n",
      "Epoch 94/100\n",
      "38/38 [==============================] - 0s 4ms/step - loss: 32798.1328 - accuracy: 0.0198\n",
      "Epoch 95/100\n",
      "38/38 [==============================] - 0s 4ms/step - loss: 32747.6016 - accuracy: 0.0206\n",
      "Epoch 96/100\n",
      "38/38 [==============================] - 0s 4ms/step - loss: 32756.4277 - accuracy: 0.0214\n",
      "Epoch 97/100\n",
      "38/38 [==============================] - 0s 4ms/step - loss: 32747.7109 - accuracy: 0.0214\n",
      "Epoch 98/100\n",
      "38/38 [==============================] - 0s 4ms/step - loss: 32734.8047 - accuracy: 0.0181\n",
      "Epoch 99/100\n",
      "38/38 [==============================] - 0s 4ms/step - loss: 32743.2422 - accuracy: 0.0206\n",
      "Epoch 100/100\n",
      "38/38 [==============================] - 0s 5ms/step - loss: 32736.4785 - accuracy: 0.0222\n",
      "\n",
      " ## AE TRAINING RUNTIME: 16.84236454963684\n"
     ]
    }
   ],
   "source": [
    "Tprocess0 = time.time()\n",
    "print('\\n', '## DATE PREPARATION RUNTIME:', Tprocess0-Tstart) #Timer\n",
    "\n",
    "## MAIN ##\n",
    "#training\n",
    "H = autoencoder.fit(X_train, X_train,\n",
    "                epochs=Nepochs,\n",
    "                shuffle=True)\n",
    "\n",
    "Tprocess1 = time.time()\n",
    "print('\\n', '## AE TRAINING RUNTIME:', Tprocess1-Tprocess0) #Timer"
   ]
  },
  {
   "cell_type": "code",
   "execution_count": 10,
   "metadata": {},
   "outputs": [
    {
     "name": "stdout",
     "output_type": "stream",
     "text": [
      "\n",
      " ## AE TRAINING RUNTIME: 16.84236454963684\n"
     ]
    }
   ],
   "source": [
    "print('\\n', '## AE TRAINING RUNTIME:', Tprocess1-Tprocess0)"
   ]
  },
  {
   "cell_type": "code",
   "execution_count": 40,
   "metadata": {},
   "outputs": [
    {
     "name": "stderr",
     "output_type": "stream",
     "text": [
      "/home/njl/anaconda3/lib/python3.7/site-packages/matplotlib/font_manager.py:1331: UserWarning: findfont: Font family ['Times New Roman'] not found. Falling back to DejaVu Sans\n",
      "  (prop.get_family(), self.defaultFamily[fontext]))\n"
     ]
    },
    {
     "data": {
      "image/png": "[encoded data removed]",
      "text/plain": [
       "<Figure size 720x360 with 1 Axes>"
      ]
     },
     "metadata": {
      "needs_background": "light"
     },
     "output_type": "display_data"
    }
   ],
   "source": [
    "#plot loss function and accuracy function\n",
    "acc = H.history['accuracy']\n",
    "loss = H.history['loss']\n",
    "plt.figure(figsize=[10,5])\n",
    "font2 = {'family' : 'Times New Roman',\n",
    "    'weight' : 'normal',\n",
    "    'size' : 16,\n",
    "    }\n",
    "\n",
    "epochs = range(1,Nepochs+1)\n",
    " \n",
    "#plt.title('Accuracy')\n",
    "plt.plot(epochs, acc,'red')\n",
    "plt.xlabel('epoch',font2)\n",
    "plt.ylabel('accuracy',font2)\n",
    "plt.tick_params(labelsize=12)\n",
    "\n",
    "#plt.legend()\n",
    "plt.show()"
   ]
  },
  {
   "cell_type": "code",
   "execution_count": 41,
   "metadata": {},
   "outputs": [
    {
     "name": "stderr",
     "output_type": "stream",
     "text": [
      "/home/njl/anaconda3/lib/python3.7/site-packages/matplotlib/font_manager.py:1331: UserWarning: findfont: Font family ['Times New Roman'] not found. Falling back to DejaVu Sans\n",
      "  (prop.get_family(), self.defaultFamily[fontext]))\n"
     ]
    },
    {
     "data": {
      "image/png": "[encoded data removed]",
      "text/plain": [
       "<Figure size 720x360 with 1 Axes>"
      ]
     },
     "metadata": {
      "needs_background": "light"
     },
     "output_type": "display_data"
    }
   ],
   "source": [
    "#plot loss function and accuracy function\n",
    " \n",
    "#plt.title('Loss')\n",
    "plt.figure(figsize=[10,5])\n",
    "plt.plot(epochs, loss, 'blue')\n",
    "plt.xlabel('epoch',font2)\n",
    "plt.ylabel('accuracy',font2)\n",
    "plt.tick_params(labelsize=12)\n",
    "\n",
    "#plt.legend()\n",
    "plt.show()"
   ]
  },
  {
   "cell_type": "code",
   "execution_count": null,
   "metadata": {},
   "outputs": [],
   "source": [
    "if tosavemodel:\n",
    "    #restore the model\n",
    "    autoencoder.save(savename + '.h5')\n",
    "\n",
    "if plot_reconstruction:\n",
    "    #plot the results\n",
    "    decoded_imgs = autoencoder.predict(X_train)"
   ]
  },
  {
   "cell_type": "code",
   "execution_count": 3,
   "metadata": {},
   "outputs": [],
   "source": [
    "from keras.utils import multi_gpu_model"
   ]
  },
  {
   "cell_type": "code",
   "execution_count": 16,
   "metadata": {},
   "outputs": [
    {
     "name": "stdout",
     "output_type": "stream",
     "text": [
      "2.2.0\n",
      "Please install GPU version of TF\n"
     ]
    }
   ],
   "source": [
    "import tensorflow as tf\n",
    "print (tf.__version__)\n",
    "if tf.test.gpu_device_name():\n",
    "    print('Default GPU Device: {}'.format(tf.test.gpu_device_name()))\n",
    "else:\n",
    "    print(\"Please install GPU version of TF\")"
   ]
  },
  {
   "cell_type": "code",
   "execution_count": 13,
   "metadata": {},
   "outputs": [
    {
     "data": {
      "text/plain": [
       "[PhysicalDevice(name='/physical_device:XLA_GPU:0', device_type='XLA_GPU'),\n",
       " PhysicalDevice(name='/physical_device:XLA_GPU:1', device_type='XLA_GPU')]"
      ]
     },
     "execution_count": 13,
     "metadata": {},
     "output_type": "execute_result"
    }
   ],
   "source": [
    "tf.config.experimental.list_physical_devices('XLA_GPU')"
   ]
  },
  {
   "cell_type": "code",
   "execution_count": 3,
   "metadata": {},
   "outputs": [
    {
     "name": "stdout",
     "output_type": "stream",
     "text": [
      "Executing op MatMul in device /job:localhost/replica:0/task:0/device:CPU:0\n",
      "tf.Tensor(\n",
      "[[22. 28.]\n",
      " [49. 64.]], shape=(2, 2), dtype=float32)\n"
     ]
    }
   ],
   "source": [
    "tf.debugging.set_log_device_placement(True)\n",
    " \n",
    "# Create some tensors\n",
    "a = tf.constant([[1.0, 2.0, 3.0], [4.0, 5.0, 6.0]])\n",
    "b = tf.constant([[1.0, 2.0], [3.0, 4.0], [5.0, 6.0]])\n",
    "c = tf.matmul(a, b)\n",
    " \n",
    "print(c)"
   ]
  },
  {
   "cell_type": "code",
   "execution_count": 15,
   "metadata": {},
   "outputs": [],
   "source": [
    "os.environ['CUDA_VISIBLE_DEVICES'] = '1'"
   ]
  },
  {
   "cell_type": "code",
   "execution_count": 18,
   "metadata": {},
   "outputs": [
    {
     "name": "stdout",
     "output_type": "stream",
     "text": [
      "2.2.0\n",
      "Please install GPU version of TF\n"
     ]
    }
   ],
   "source": [
    "import tensorflow as tf\n",
    "print (tf.__version__)\n",
    "if tf.test.gpu_device_name():\n",
    "    print('Default GPU Device: {}'.format(tf.test.gpu_device_name()))\n",
    "else:\n",
    "    print(\"Please install GPU version of TF\")"
   ]
  },
  {
   "cell_type": "code",
   "execution_count": 4,
   "metadata": {},
   "outputs": [
    {
     "ename": "AttributeError",
     "evalue": "module 'tensorflow' has no attribute 'GPUOptions'",
     "output_type": "error",
     "traceback": [
      "\u001b[0;31m---------------------------------------------------------------------------\u001b[0m",
      "\u001b[0;31mAttributeError\u001b[0m                            Traceback (most recent call last)",
      "\u001b[0;32m<ipython-input-4-8a97fc1920f5>\u001b[0m in \u001b[0;36m<module>\u001b[0;34m()\u001b[0m\n\u001b[0;32m----> 1\u001b[0;31m \u001b[0mgpu_options\u001b[0m \u001b[0;34m=\u001b[0m \u001b[0mtf\u001b[0m\u001b[0;34m.\u001b[0m\u001b[0mGPUOptions\u001b[0m\u001b[0;34m(\u001b[0m\u001b[0mper_process_gpu_memory_fraction\u001b[0m\u001b[0;34m=\u001b[0m\u001b[0;36m0.7\u001b[0m\u001b[0;34m)\u001b[0m\u001b[0;34m\u001b[0m\u001b[0m\n\u001b[0m\u001b[1;32m      2\u001b[0m \u001b[0msess\u001b[0m \u001b[0;34m=\u001b[0m \u001b[0mtf\u001b[0m\u001b[0;34m.\u001b[0m\u001b[0mSession\u001b[0m\u001b[0;34m(\u001b[0m\u001b[0mconfig\u001b[0m\u001b[0;34m=\u001b[0m\u001b[0mtf\u001b[0m\u001b[0;34m.\u001b[0m\u001b[0mConfigProto\u001b[0m\u001b[0;34m(\u001b[0m\u001b[0mgpu_options\u001b[0m\u001b[0;34m=\u001b[0m\u001b[0mgpu_options\u001b[0m\u001b[0;34m)\u001b[0m\u001b[0;34m)\u001b[0m\u001b[0;34m\u001b[0m\u001b[0m\n",
      "\u001b[0;31mAttributeError\u001b[0m: module 'tensorflow' has no attribute 'GPUOptions'"
     ]
    }
   ],
   "source": [
    "gpu_options = tf.GPUOptions(per_process_gpu_memory_fraction=0.7)\n",
    "sess = tf.Session(config=tf.ConfigProto(gpu_options=gpu_options))"
   ]
  },
  {
   "cell_type": "code",
   "execution_count": 3,
   "metadata": {},
   "outputs": [],
   "source": [
    "import os"
   ]
  },
  {
   "cell_type": "code",
   "execution_count": 4,
   "metadata": {},
   "outputs": [
    {
     "data": {
      "text/plain": [
       "<module 'posixpath' from '/home/njl/anaconda3/lib/python3.7/posixpath.py'>"
      ]
     },
     "execution_count": 4,
     "metadata": {},
     "output_type": "execute_result"
    }
   ],
   "source": [
    "os.path"
   ]
  },
  {
   "cell_type": "code",
   "execution_count": 6,
   "metadata": {},
   "outputs": [
    {
     "name": "stdout",
     "output_type": "stream",
     "text": [
      "Num GPUs Available:  2\n"
     ]
    }
   ],
   "source": [
    "import tensorflow as tf\n",
    "print(\"Num GPUs Available: \", len(tf.config.experimental.list_physical_devices('XLA_GPU')))"
   ]
  },
  {
   "cell_type": "code",
   "execution_count": null,
   "metadata": {},
   "outputs": [],
   "source": [
    "import tensorflow as tf\n",
    "tf.test.gpu_device_name()"
   ]
  }
 ],
 "metadata": {
  "kernelspec": {
   "display_name": "Python 3",
   "language": "python",
   "name": "python3"
  },
  "language_info": {
   "codemirror_mode": {
    "name": "ipython",
    "version": 3
   },
   "file_extension": ".py",
   "mimetype": "text/x-python",
   "name": "python",
   "nbconvert_exporter": "python",
   "pygments_lexer": "ipython3",
   "version": "3.7.2"
  }
 },
 "nbformat": 4,
 "nbformat_minor": 4
}
