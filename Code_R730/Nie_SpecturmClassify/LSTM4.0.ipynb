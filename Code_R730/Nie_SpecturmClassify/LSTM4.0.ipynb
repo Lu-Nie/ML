{
 "cells": [
  {
   "cell_type": "code",
   "execution_count": 1,
   "metadata": {},
   "outputs": [],
   "source": [
    "import os\n",
    "import numpy as np\n",
    "import DataPreprocessing as DP\n",
    "from matplotlib import pyplot as plt\n",
    "from astropy.io import fits\n",
    "import tensorflow as tf\n",
    "from keras.models import Sequential\n",
    "#from keras.layers import LSTM, Dense, Embedding, Input, Flatten\n",
    "from keras import optimizers\n",
    "from keras.models import Model\n",
    "\n",
    "from keras.layers import Dense, Dropout, LSTM, Flatten, Input, Reshape\n",
    "from keras.optimizers import Adam\n",
    "\n",
    "\n",
    "import time\n",
    "Tstart = time.time()"
   ]
  },
  {
   "cell_type": "code",
   "execution_count": 2,
   "metadata": {},
   "outputs": [
    {
     "name": "stdout",
     "output_type": "stream",
     "text": [
      "[PhysicalDevice(name='/physical_device:XLA_GPU:0', device_type='XLA_GPU'), PhysicalDevice(name='/physical_device:XLA_GPU:1', device_type='XLA_GPU')]\n"
     ]
    }
   ],
   "source": [
    "#os.environ[\"CUDA_VISIBLE_DEVICES\"]=\"0\" #for GPU usagegpus = tf.config.experimental.list_physical_devices(device_type='XLA_GPU')\n",
    "gpus = tf.config.experimental.list_physical_devices(device_type='XLA_GPU')\n",
    "print(gpus)\n",
    "tf.config.experimental.set_visible_devices(devices=gpus, device_type='XLA_GPU')"
   ]
  },
  {
   "cell_type": "code",
   "execution_count": 3,
   "metadata": {},
   "outputs": [
    {
     "data": {
      "text/plain": [
       "[array([5282.0195, 5283.235 , 5284.453 , 5285.669 , 5286.8877, 5288.104 ,\n",
       "        5289.323 , 5290.54  , 5291.7573, 5292.9775, 5294.1953, 5295.416 ,\n",
       "        5296.6343, 5297.8555, 5299.074 , 5300.2935, 5301.5156, 5302.7354,\n",
       "        5303.958 , 5305.178 , 5306.4014, 5307.622 , 5308.8433, 5310.0674,\n",
       "        5311.289 , 5312.5137, 5313.736 , 5314.9614, 5316.184 , 5317.407 ,\n",
       "        5318.6333, 5319.857 , 5321.0835, 5322.3076, 5323.5347, 5324.76  ,\n",
       "        5325.9844, 5327.213 , 5328.438 , 5329.667 , 5330.893 , 5332.122 ,\n",
       "        5333.349 , 5334.5757, 5335.806 , 5337.0337, 5338.264 , 5339.492 ,\n",
       "        5340.7236, 5341.952 , 5343.181 , 5344.413 , 5345.6426, 5346.8755,\n",
       "        5348.1055, 5349.339 , 5350.5693, 5351.8003, 5353.034 , 5354.2656,\n",
       "        5355.5005, 5356.7324, 5357.968 , 5359.2   , 5360.433 , 5361.6694,\n",
       "        5362.903 , 5364.139 , 5365.3735, 5366.611 , 5367.845 , 5369.08  ,\n",
       "        5370.3184, 5371.5537, 5372.7925, 5374.0283, 5375.2676, 5376.504 ,\n",
       "        5377.744 , 5378.981 , 5380.2183, 5381.459 , 5382.6973, 5383.9385,\n",
       "        5385.177 , 5386.419 , 5387.6577, 5388.8975, 5390.14  , 5391.38  ,\n",
       "        5392.623 , 5393.864 , 5395.1074, 5396.3486, 5397.5903, 5398.835 ,\n",
       "        5400.0767, 5401.3223, 5402.5645, 5403.8105, 5405.0537, 5406.297 ,\n",
       "        5407.544 , 5408.7876, 5410.035 , 5411.28  , 5412.5273, 5413.7725,\n",
       "        5415.018 , 5416.2666, 5417.5127, 5418.7617, 5420.0083, 5421.2583,\n",
       "        5422.5054, 5423.753 , 5425.0034, 5426.2515, 5427.503 , 5428.7515,\n",
       "        5430.0034, 5431.2524, 5432.502 , 5433.755 , 5435.005 , 5436.258 ,\n",
       "        5437.509 , 5438.7627, 5440.0137, 5441.265 , 5442.52  , 5443.772 ,\n",
       "        5445.0273, 5446.28  , 5447.5356, 5448.789 , 5450.0425, 5451.2993,\n",
       "        5452.553 , 5453.8105, 5455.0654, 5456.323 , 5457.5786, 5458.834 ,\n",
       "        5460.093 , 5461.3486, 5462.6084, 5463.8647, 5465.125 , 5466.3823,\n",
       "        5467.6396, 5468.9004, 5470.1587, 5471.42  , 5472.6787, 5473.9404,\n",
       "        5475.1997, 5476.4624, 5477.722 , 5478.9824, 5480.246 , 5481.507 ,\n",
       "        5482.7705, 5484.032 , 5485.2964, 5486.5586, 5487.821 , 5489.086 ,\n",
       "        5490.349 , 5491.6147, 5492.8784, 5494.145 , 5495.4087, 5496.673 ,\n",
       "        5497.9404, 5499.2056, 5500.4736, 5501.739 , 5503.0073, 5504.2734,\n",
       "        5505.5396, 5506.8096, 5508.076 , 5509.346 , 5510.614 , 5511.8843,\n",
       "        5513.1523, 5514.421 , 5515.6924, 5516.9614, 5518.2334, 5519.503 ,\n",
       "        5520.776 , 5522.046 , 5523.316 , 5524.59  , 5525.861 , 5527.135 ,\n",
       "        5528.4062, 5529.681 , 5530.9536, 5532.2256, 5533.5015, 5534.7744,\n",
       "        5536.051 ], dtype=float32),\n",
       " array([nan, nan, nan, nan, nan, nan, nan, nan, nan, nan, nan, nan, nan,\n",
       "        nan, nan, nan, nan, nan, nan, nan, nan, nan, nan, nan, nan, nan,\n",
       "        nan, nan, nan, nan, nan, nan, nan, nan, nan, nan, nan, nan, nan,\n",
       "        nan, nan, nan, nan, nan, nan, nan, nan, nan, nan, nan, nan, nan,\n",
       "        nan, nan, nan, nan, nan, nan, nan, nan, nan, nan, nan, nan, nan,\n",
       "        nan, nan, nan, nan, nan, nan, nan, nan, nan, nan, nan, nan, nan,\n",
       "        nan, nan, nan, nan, nan, nan, nan, nan, nan, nan, nan, nan, nan,\n",
       "        nan, nan, nan, nan, nan, nan, nan, nan, nan, nan, nan, nan, nan,\n",
       "        nan, nan, nan, nan, nan, nan, nan, nan, nan, nan, nan, nan, nan,\n",
       "        nan, nan, nan, nan, nan, nan, nan, nan, nan, nan, nan, nan, nan,\n",
       "        nan, nan, nan, nan, nan, nan, nan, nan, nan, nan, nan, nan, nan,\n",
       "        nan, nan, nan, nan, nan, nan, nan, nan, nan, nan, nan, nan, nan,\n",
       "        nan, nan, nan, nan, nan, nan, nan, nan, nan, nan, nan, nan, nan,\n",
       "        nan, nan, nan, nan, nan, nan, nan, nan, nan, nan, nan, nan, nan,\n",
       "        nan, nan, nan, nan, nan, nan, nan, nan, nan, nan, nan, nan, nan,\n",
       "        nan, nan, nan, nan, nan, nan, nan, nan, nan, nan], dtype=float32)]"
      ]
     },
     "execution_count": 3,
     "metadata": {},
     "output_type": "execute_result"
    }
   ],
   "source": [
    "#Dataset\n",
    "#norm spectrum\n",
    "kinds = ['boss_cv','boss_da+ms','boss_db','boss_db+ms','boss_dq','boss_dz','fgkm','hotstars','wd','wdsb2','yso','hotstars_m']\n",
    "flux_cv, spectrum_cv = DP.Preprocessing7('/home/njl/ML/optical/'+kinds[0]+'/'+'*.fit')\n",
    "flux_dams, spectrum_dams = DP.Preprocessing7('/home/njl/ML/optical/'+kinds[1]+'/'+'*.fit')\n",
    "flux_db, spectrum_db = DP.Preprocessing7('/home/njl/ML/optical/'+kinds[2]+'/'+'*.fit')\n",
    "\n",
    "#delate bad data\n",
    "n = 0\n",
    "for i in range(len(spectrum_db)):\n",
    "    if len(spectrum_db[i][0]) < 4096:\n",
    "        n = i\n",
    "flux_db.pop(n)\n",
    "spectrum_db.pop(n)"
   ]
  },
  {
   "cell_type": "code",
   "execution_count": 4,
   "metadata": {},
   "outputs": [
    {
     "name": "stdout",
     "output_type": "stream",
     "text": [
      "(9712, 1, 4552)\n"
     ]
    }
   ],
   "source": [
    "#input spectrum\n",
    "l_list =  flux_cv+flux_dams+flux_db+flux_cv+flux_dams+flux_db+flux_cv+flux_dams+flux_db+flux_cv+flux_dams+flux_db+flux_cv+flux_dams+flux_db+flux_cv+flux_dams+flux_db+flux_cv+flux_dams+flux_db+flux_cv+flux_dams+flux_db\n",
    "sl = []\n",
    "for i in range(len(l_list)):\n",
    "    sl.append(len(l_list[i]))\n",
    "sl_min = np.min(sl)\n",
    "X_train = []\n",
    "for i in range(len(l_list)):\n",
    "    X_train.append(l_list[i][0:sl_min])\n",
    "X_train = np.array(X_train)\n",
    "size = 4552\n",
    "#X_train = l_list\n",
    "X_train = np.stack(X_train)\n",
    "#X_train = X_train.reshape(len(X_train),size,1) #change the shape to NHWC for CAE input\n",
    "X_train = X_train.reshape(len(X_train),1,size)#(1214,1,4552)\n",
    "print(X_train.shape) #print information of training samples"
   ]
  },
  {
   "cell_type": "code",
   "execution_count": 5,
   "metadata": {},
   "outputs": [
    {
     "data": {
      "text/plain": [
       "(1, 4552)"
      ]
     },
     "execution_count": 5,
     "metadata": {},
     "output_type": "execute_result"
    }
   ],
   "source": [
    "X_train.shape[1:]"
   ]
  },
  {
   "cell_type": "code",
   "execution_count": 6,
   "metadata": {},
   "outputs": [],
   "source": [
    "#########################################model\n",
    "#LSTM net\n",
    "inputs = Input(shape=X_train.shape[1:])#(1214,4552)\n",
    "x = LSTM(128,activation='tanh')(inputs)#(256)\n",
    "x = Dropout(0.001)(x)#(256)\n",
    "# = LSTM(512,activation='tanh')(x)#(128)\n",
    "#x = Dropout(0.001)(x)#(128)\n",
    "#x = LSTM(128,activation='tanh')(x)\n",
    "# #hidden net\n",
    "x = Dense(2048, activation='relu')(x)#(2048)\n",
    "x = Dense(1024, activation='relu')(x)#(1024)\n",
    "encoded = Dense(32, activation='relu', name='embedding')(x)#(2)\n",
    "#x = Dense(128, activation='relu')(encoded)#(1024)\n",
    "#x = Dense(2048, activation='relu')(x)#(2048)\n",
    "x = Dense(1024, activation='relu')(encoded)\n",
    "x = Dense(2048, activation='relu')(x)\n",
    "decoded = Dense(4552, activation='softmax')(x)#(4552)\n",
    "x = Reshape((1,4552))(decoded)#(1,4552)"
   ]
  },
  {
   "cell_type": "code",
   "execution_count": 7,
   "metadata": {},
   "outputs": [
    {
     "name": "stdout",
     "output_type": "stream",
     "text": [
      "Model: \"model\"\n",
      "_________________________________________________________________\n",
      "Layer (type)                 Output Shape              Param #   \n",
      "=================================================================\n",
      "input_1 (InputLayer)         [(None, 1, 4552)]         0         \n",
      "_________________________________________________________________\n",
      "lstm (LSTM)                  (None, 128)               2396672   \n",
      "_________________________________________________________________\n",
      "dropout (Dropout)            (None, 128)               0         \n",
      "_________________________________________________________________\n",
      "dense (Dense)                (None, 2048)              264192    \n",
      "_________________________________________________________________\n",
      "dense_1 (Dense)              (None, 1024)              2098176   \n",
      "_________________________________________________________________\n",
      "embedding (Dense)            (None, 32)                32800     \n",
      "_________________________________________________________________\n",
      "dense_2 (Dense)              (None, 1024)              33792     \n",
      "_________________________________________________________________\n",
      "dense_3 (Dense)              (None, 2048)              2099200   \n",
      "_________________________________________________________________\n",
      "dense_4 (Dense)              (None, 4552)              9327048   \n",
      "_________________________________________________________________\n",
      "reshape (Reshape)            (None, 1, 4552)           0         \n",
      "=================================================================\n",
      "Total params: 16,251,880\n",
      "Trainable params: 16,251,880\n",
      "Non-trainable params: 0\n",
      "_________________________________________________________________\n",
      "None\n"
     ]
    }
   ],
   "source": [
    "autoencoder = Model(inputs, x)\n",
    "#autoencoder = multi_gpu_model(input_spe, decoded)\n",
    "optimizer_adam = optimizers.Adam(lr=0.001)#learning rate\n",
    "autoencoder.compile(optimizer=optimizer_adam, loss='categorical_crossentropy', metrics=['accuracy'])####loss function\n",
    "#autoencoder.compile(loss='categorical_crossentropy', optimizer='adam', metrics=['accuracy'])\n",
    "print(autoencoder.summary())"
   ]
  },
  {
   "cell_type": "code",
   "execution_count": 8,
   "metadata": {},
   "outputs": [],
   "source": [
    "Nepochs = 100 #number of epochs for CAE training\n",
    "tosavemodel = True #if save the trained CAE model\n",
    "plot_reconstruction = True #if plot the reconstruction comparison\n",
    " #setup if \"tosavemodel=True\" or \"plot_reconstuction=True\""
   ]
  },
  {
   "cell_type": "code",
   "execution_count": 9,
   "metadata": {},
   "outputs": [
    {
     "name": "stdout",
     "output_type": "stream",
     "text": [
      "\n",
      " ## DATE PREPARATION RUNTIME: 43.07984972000122\n",
      "Epoch 1/100\n",
      "19/19 - 0s - loss: 34804.3125 - accuracy: 0.0081\n",
      "Epoch 2/100\n",
      "19/19 - 0s - loss: 33331.8047 - accuracy: 0.0145\n",
      "Epoch 3/100\n",
      "19/19 - 0s - loss: 32889.0352 - accuracy: 0.0242\n",
      "Epoch 4/100\n",
      "19/19 - 0s - loss: 32447.4199 - accuracy: 0.0324\n",
      "Epoch 5/100\n",
      "19/19 - 0s - loss: 32172.2734 - accuracy: 0.0459\n",
      "Epoch 6/100\n",
      "19/19 - 0s - loss: 31976.2480 - accuracy: 0.0653\n",
      "Epoch 7/100\n",
      "19/19 - 0s - loss: 31821.7949 - accuracy: 0.0806\n",
      "Epoch 8/100\n",
      "19/19 - 0s - loss: 31705.3242 - accuracy: 0.0937\n",
      "Epoch 9/100\n",
      "19/19 - 0s - loss: 31605.2910 - accuracy: 0.1002\n",
      "Epoch 10/100\n",
      "19/19 - 0s - loss: 31627.4199 - accuracy: 0.0942\n",
      "Epoch 11/100\n",
      "19/19 - 0s - loss: 31699.0879 - accuracy: 0.0846\n",
      "Epoch 12/100\n",
      "19/19 - 0s - loss: 31511.5293 - accuracy: 0.1050\n",
      "Epoch 13/100\n",
      "19/19 - 0s - loss: 31411.7754 - accuracy: 0.1058\n",
      "Epoch 14/100\n",
      "19/19 - 0s - loss: 31276.2773 - accuracy: 0.1103\n",
      "Epoch 15/100\n",
      "19/19 - 0s - loss: 31192.8477 - accuracy: 0.1075\n",
      "Epoch 16/100\n",
      "19/19 - 0s - loss: 31124.0391 - accuracy: 0.1172\n",
      "Epoch 17/100\n",
      "19/19 - 0s - loss: 31041.0020 - accuracy: 0.1237\n",
      "Epoch 18/100\n",
      "19/19 - 0s - loss: 30945.7500 - accuracy: 0.1264\n",
      "Epoch 19/100\n",
      "19/19 - 0s - loss: 30932.4180 - accuracy: 0.1256\n",
      "Epoch 20/100\n",
      "19/19 - 0s - loss: 30859.7852 - accuracy: 0.1285\n",
      "Epoch 21/100\n",
      "19/19 - 0s - loss: 30805.1562 - accuracy: 0.1307\n",
      "Epoch 22/100\n",
      "19/19 - 0s - loss: 30747.0117 - accuracy: 0.1366\n",
      "Epoch 23/100\n",
      "19/19 - 0s - loss: 30704.3848 - accuracy: 0.1385\n",
      "Epoch 24/100\n",
      "19/19 - 0s - loss: 30677.0645 - accuracy: 0.1346\n",
      "Epoch 25/100\n",
      "19/19 - 0s - loss: 30665.2988 - accuracy: 0.1365\n",
      "Epoch 26/100\n",
      "19/19 - 0s - loss: 30632.2773 - accuracy: 0.1394\n",
      "Epoch 27/100\n",
      "19/19 - 0s - loss: 30606.1953 - accuracy: 0.1462\n",
      "Epoch 28/100\n",
      "19/19 - 0s - loss: 30609.9805 - accuracy: 0.1352\n",
      "Epoch 29/100\n",
      "19/19 - 0s - loss: 30572.6426 - accuracy: 0.1330\n",
      "Epoch 30/100\n",
      "19/19 - 0s - loss: 30532.7812 - accuracy: 0.1403\n",
      "Epoch 31/100\n",
      "19/19 - 0s - loss: 30538.0000 - accuracy: 0.1349\n",
      "Epoch 32/100\n",
      "19/19 - 0s - loss: 30499.6875 - accuracy: 0.1418\n",
      "Epoch 33/100\n",
      "19/19 - 0s - loss: 30490.9219 - accuracy: 0.1405\n",
      "Epoch 34/100\n",
      "19/19 - 0s - loss: 30469.5449 - accuracy: 0.1415\n",
      "Epoch 35/100\n",
      "19/19 - 0s - loss: 30450.5234 - accuracy: 0.1453\n",
      "Epoch 36/100\n",
      "19/19 - 0s - loss: 30436.2246 - accuracy: 0.1454\n",
      "Epoch 37/100\n",
      "19/19 - 0s - loss: 30421.1230 - accuracy: 0.1498\n",
      "Epoch 38/100\n",
      "19/19 - 0s - loss: 30417.7461 - accuracy: 0.1474\n",
      "Epoch 39/100\n",
      "19/19 - 0s - loss: 30405.2852 - accuracy: 0.1514\n",
      "Epoch 40/100\n",
      "19/19 - 0s - loss: 30536.9941 - accuracy: 0.1336\n",
      "Epoch 41/100\n",
      "19/19 - 0s - loss: 30625.7461 - accuracy: 0.1227\n",
      "Epoch 42/100\n",
      "19/19 - 0s - loss: 30507.0273 - accuracy: 0.1324\n",
      "Epoch 43/100\n",
      "19/19 - 0s - loss: 30463.0879 - accuracy: 0.1399\n",
      "Epoch 44/100\n",
      "19/19 - 0s - loss: 30426.3398 - accuracy: 0.1453\n",
      "Epoch 45/100\n",
      "19/19 - 0s - loss: 30422.6328 - accuracy: 0.1436\n",
      "Epoch 46/100\n",
      "19/19 - 0s - loss: 30729.2461 - accuracy: 0.1089\n",
      "Epoch 47/100\n",
      "19/19 - 0s - loss: 30662.5312 - accuracy: 0.1282\n",
      "Epoch 48/100\n",
      "19/19 - 0s - loss: 30517.9766 - accuracy: 0.1413\n",
      "Epoch 49/100\n",
      "19/19 - 0s - loss: 30457.7793 - accuracy: 0.1461\n",
      "Epoch 50/100\n",
      "19/19 - 0s - loss: 30418.9160 - accuracy: 0.1446\n",
      "Epoch 51/100\n",
      "19/19 - 0s - loss: 30412.9590 - accuracy: 0.1499\n",
      "Epoch 52/100\n",
      "19/19 - 0s - loss: 30404.3789 - accuracy: 0.1474\n",
      "Epoch 53/100\n",
      "19/19 - 0s - loss: 30376.2441 - accuracy: 0.1515\n",
      "Epoch 54/100\n",
      "19/19 - 0s - loss: 30355.1074 - accuracy: 0.1570\n",
      "Epoch 55/100\n",
      "19/19 - 0s - loss: 30341.0938 - accuracy: 0.1564\n",
      "Epoch 56/100\n",
      "19/19 - 0s - loss: 30328.6621 - accuracy: 0.1606\n",
      "Epoch 57/100\n",
      "19/19 - 0s - loss: 30324.4883 - accuracy: 0.1542\n",
      "Epoch 58/100\n",
      "19/19 - 0s - loss: 30317.8652 - accuracy: 0.1587\n",
      "Epoch 59/100\n",
      "19/19 - 0s - loss: 30319.9375 - accuracy: 0.1595\n",
      "Epoch 60/100\n",
      "19/19 - 0s - loss: 30310.8594 - accuracy: 0.1599\n",
      "Epoch 61/100\n",
      "19/19 - 0s - loss: 30324.0195 - accuracy: 0.1568\n",
      "Epoch 62/100\n",
      "19/19 - 0s - loss: 30335.4199 - accuracy: 0.1546\n",
      "Epoch 63/100\n",
      "19/19 - 0s - loss: 30326.1719 - accuracy: 0.1531\n",
      "Epoch 64/100\n",
      "19/19 - 0s - loss: 30322.0059 - accuracy: 0.1583\n",
      "Epoch 65/100\n",
      "19/19 - 0s - loss: 30303.1855 - accuracy: 0.1622\n",
      "Epoch 66/100\n",
      "19/19 - 0s - loss: 30291.5820 - accuracy: 0.1645\n",
      "Epoch 67/100\n",
      "19/19 - 0s - loss: 30283.6465 - accuracy: 0.1631\n",
      "Epoch 68/100\n",
      "19/19 - 0s - loss: 30278.6426 - accuracy: 0.1674\n",
      "Epoch 69/100\n",
      "19/19 - 0s - loss: 30273.4961 - accuracy: 0.1700\n",
      "Epoch 70/100\n",
      "19/19 - 0s - loss: 30269.1328 - accuracy: 0.1687\n",
      "Epoch 71/100\n",
      "19/19 - 0s - loss: 30269.9746 - accuracy: 0.1672\n",
      "Epoch 72/100\n",
      "19/19 - 0s - loss: 30268.2070 - accuracy: 0.1746\n",
      "Epoch 73/100\n",
      "19/19 - 0s - loss: 30265.9668 - accuracy: 0.1687\n",
      "Epoch 74/100\n",
      "19/19 - 0s - loss: 30264.9453 - accuracy: 0.1716\n",
      "Epoch 75/100\n",
      "19/19 - 0s - loss: 30273.3047 - accuracy: 0.1660\n",
      "Epoch 76/100\n",
      "19/19 - 0s - loss: 30278.9004 - accuracy: 0.1650\n",
      "Epoch 77/100\n",
      "19/19 - 0s - loss: 30276.2012 - accuracy: 0.1627\n",
      "Epoch 78/100\n",
      "19/19 - 0s - loss: 30295.0273 - accuracy: 0.1542\n",
      "Epoch 79/100\n",
      "19/19 - 0s - loss: 30290.7734 - accuracy: 0.1606\n",
      "Epoch 80/100\n",
      "19/19 - 0s - loss: 30283.1230 - accuracy: 0.1612\n",
      "Epoch 81/100\n",
      "19/19 - 0s - loss: 30284.5215 - accuracy: 0.1629\n",
      "Epoch 82/100\n",
      "19/19 - 0s - loss: 30276.7676 - accuracy: 0.1640\n",
      "Epoch 83/100\n",
      "19/19 - 0s - loss: 30272.0625 - accuracy: 0.1646\n",
      "Epoch 84/100\n",
      "19/19 - 0s - loss: 30271.1406 - accuracy: 0.1651\n",
      "Epoch 85/100\n",
      "19/19 - 0s - loss: 30281.1074 - accuracy: 0.1610\n",
      "Epoch 86/100\n",
      "19/19 - 0s - loss: 30265.0742 - accuracy: 0.1612\n",
      "Epoch 87/100\n",
      "19/19 - 0s - loss: 30448.6680 - accuracy: 0.1437\n",
      "Epoch 88/100\n",
      "19/19 - 0s - loss: 30672.2773 - accuracy: 0.1238\n",
      "Epoch 89/100\n",
      "19/19 - 0s - loss: 30526.9746 - accuracy: 0.1356\n",
      "Epoch 90/100\n",
      "19/19 - 0s - loss: 30453.9941 - accuracy: 0.1445\n",
      "Epoch 91/100\n",
      "19/19 - 0s - loss: 30388.0137 - accuracy: 0.1466\n",
      "Epoch 92/100\n",
      "19/19 - 0s - loss: 30337.5020 - accuracy: 0.1530\n",
      "Epoch 93/100\n",
      "19/19 - 0s - loss: 30321.0352 - accuracy: 0.1624\n",
      "Epoch 94/100\n",
      "19/19 - 0s - loss: 30299.5195 - accuracy: 0.1686\n",
      "Epoch 95/100\n",
      "19/19 - 0s - loss: 30293.7832 - accuracy: 0.1697\n",
      "Epoch 96/100\n",
      "19/19 - 0s - loss: 30290.4883 - accuracy: 0.1677\n",
      "Epoch 97/100\n",
      "19/19 - 0s - loss: 30285.7129 - accuracy: 0.1694\n",
      "Epoch 98/100\n",
      "19/19 - 0s - loss: 30277.2285 - accuracy: 0.1730\n",
      "Epoch 99/100\n",
      "19/19 - 0s - loss: 30283.7168 - accuracy: 0.1710\n",
      "Epoch 100/100\n",
      "19/19 - 0s - loss: 30276.3555 - accuracy: 0.1749\n",
      "\n",
      " ## AE TRAINING RUNTIME: 38.529221296310425\n"
     ]
    }
   ],
   "source": [
    "Tprocess0 = time.time()\n",
    "print('\\n', '## DATE PREPARATION RUNTIME:', Tprocess0-Tstart) #Timer\n",
    "\n",
    "## MAIN ##\n",
    "#training\n",
    "H = autoencoder.fit(X_train, X_train,\n",
    "                    batch_size = 512,\n",
    "                    epochs=Nepochs,\n",
    "                    verbose=2,\n",
    "                    shuffle=True)\n",
    "\n",
    "Tprocess1 = time.time()\n",
    "print('\\n', '## AE TRAINING RUNTIME:', Tprocess1-Tprocess0) #Timer"
   ]
  },
  {
   "cell_type": "code",
   "execution_count": 10,
   "metadata": {},
   "outputs": [
    {
     "name": "stdout",
     "output_type": "stream",
     "text": [
      "\n",
      " ## AE TRAINING RUNTIME: 38.529221296310425\n"
     ]
    }
   ],
   "source": [
    "print('\\n', '## AE TRAINING RUNTIME:', Tprocess1-Tprocess0)"
   ]
  },
  {
   "cell_type": "code",
   "execution_count": 11,
   "metadata": {},
   "outputs": [
    {
     "name": "stderr",
     "output_type": "stream",
     "text": [
      "/home/njl/anaconda3/lib/python3.7/site-packages/matplotlib/font_manager.py:1331: UserWarning: findfont: Font family ['Times New Roman'] not found. Falling back to DejaVu Sans\n",
      "  (prop.get_family(), self.defaultFamily[fontext]))\n"
     ]
    },
    {
     "data": {
      "image/png": "[encoded data removed]",
      "text/plain": [
       "<Figure size 720x360 with 1 Axes>"
      ]
     },
     "metadata": {
      "needs_background": "light"
     },
     "output_type": "display_data"
    }
   ],
   "source": [
    "#plot loss function and accuracy function\n",
    "acc = H.history['accuracy']\n",
    "loss = H.history['loss']\n",
    "plt.figure(figsize=[10,5])\n",
    "font2 = {'family' : 'Times New Roman',\n",
    "    'weight' : 'normal',\n",
    "    'size' : 16,\n",
    "    }\n",
    "\n",
    "epochs = range(1,Nepochs+1)\n",
    " \n",
    "#plt.title('Accuracy')\n",
    "plt.plot(epochs, acc,'red')\n",
    "plt.xlabel('epoch',font2)\n",
    "plt.ylabel('accuracy',font2)\n",
    "plt.tick_params(labelsize=12)\n",
    "\n",
    "#plt.legend()\n",
    "plt.show()"
   ]
  },
  {
   "cell_type": "code",
   "execution_count": 12,
   "metadata": {},
   "outputs": [
    {
     "name": "stderr",
     "output_type": "stream",
     "text": [
      "/home/njl/anaconda3/lib/python3.7/site-packages/matplotlib/font_manager.py:1331: UserWarning: findfont: Font family ['Times New Roman'] not found. Falling back to DejaVu Sans\n",
      "  (prop.get_family(), self.defaultFamily[fontext]))\n"
     ]
    },
    {
     "data": {
      "image/png": "[encoded data removed]",
      "text/plain": [
       "<Figure size 720x360 with 1 Axes>"
      ]
     },
     "metadata": {
      "needs_background": "light"
     },
     "output_type": "display_data"
    }
   ],
   "source": [
    "#plot loss function and accuracy function\n",
    " \n",
    "#plt.title('Loss')\n",
    "plt.figure(figsize=[10,5])\n",
    "plt.plot(epochs, loss, 'blue')\n",
    "plt.xlabel('epoch',font2)\n",
    "plt.ylabel('loss',font2)\n",
    "plt.tick_params(labelsize=12)\n",
    "\n",
    "#plt.legend()\n",
    "plt.show()"
   ]
  },
  {
   "cell_type": "code",
   "execution_count": 13,
   "metadata": {},
   "outputs": [],
   "source": [
    "savename = 'LAE_reconstruction2.0'\n",
    "tosavemodel = True\n",
    "if tosavemodel:\n",
    "    #restore the model\n",
    "    autoencoder.save(savename + '.h5')"
   ]
  },
  {
   "cell_type": "code",
   "execution_count": null,
   "metadata": {},
   "outputs": [],
   "source": []
  },
  {
   "cell_type": "code",
   "execution_count": null,
   "metadata": {},
   "outputs": [],
   "source": []
  }
 ],
 "metadata": {
  "kernelspec": {
   "display_name": "Python 3",
   "language": "python",
   "name": "python3"
  },
  "language_info": {
   "codemirror_mode": {
    "name": "ipython",
    "version": 3
   },
   "file_extension": ".py",
   "mimetype": "text/x-python",
   "name": "python",
   "nbconvert_exporter": "python",
   "pygments_lexer": "ipython3",
   "version": "3.7.2"
  }
 },
 "nbformat": 4,
 "nbformat_minor": 2
}
