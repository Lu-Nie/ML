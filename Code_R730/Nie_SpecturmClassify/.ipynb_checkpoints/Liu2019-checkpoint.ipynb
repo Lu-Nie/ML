{
 "cells": [
  {
   "cell_type": "code",
   "execution_count": 2,
   "metadata": {},
   "outputs": [],
   "source": [
    "import os\n",
    "#os.environ[\"CUDA_VISIBLE_DEVICES\"]=\"0\" #for GPU usage\n",
    "#import matplotlib as mpl\n",
    "#mpl.use('Agg')\n",
    "import numpy as np\n",
    "from keras.layers import Input, Dense, Flatten, Reshape, Softmax\n",
    "from keras.layers import Conv1D, MaxPooling1D, UpSampling1D\n",
    "from keras.models import Model\n",
    "from keras import backend as K\n",
    "from keras import callbacks, optimizers\n",
    "from keras.utils import multi_gpu_model\n",
    "import tensorflow as tf\n",
    "\n",
    "import DataPreprocessing as DP\n",
    "from matplotlib import pyplot as plt\n",
    "from astropy.io import fits\n",
    "#from skimage import exposure\n",
    "#------------------------------------------------------------------------#\n",
    "import time\n",
    "Tstart = time.time() #Timer start"
   ]
  },
  {
   "cell_type": "code",
   "execution_count": null,
   "metadata": {},
   "outputs": [],
   "source": []
  }
 ],
 "metadata": {
  "kernelspec": {
   "display_name": "Python 3",
   "language": "python",
   "name": "python3"
  },
  "language_info": {
   "codemirror_mode": {
    "name": "ipython",
    "version": 3
   },
   "file_extension": ".py",
   "mimetype": "text/x-python",
   "name": "python",
   "nbconvert_exporter": "python",
   "pygments_lexer": "ipython3",
   "version": "3.7.2"
  }
 },
 "nbformat": 4,
 "nbformat_minor": 2
}
