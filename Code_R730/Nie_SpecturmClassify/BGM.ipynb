{
 "cells": [
  {
   "cell_type": "code",
   "execution_count": 3,
   "metadata": {},
   "outputs": [],
   "source": [
    "import os\n",
    "import numpy as np\n",
    "import DataPreprocessing as DP\n",
    "import itertools\n",
    "import h5py\n",
    "from matplotlib import pyplot as plt\n",
    "from astropy.io import fits\n",
    "\n",
    "from keras import backend as K\n",
    "from keras.models import load_model\n",
    "import tensorflow as tf\n",
    "\n",
    "from sklearn.mixture import BayesianGaussianMixture as BGM\n",
    "from sklearn.metrics import accuracy_score, confusion_matrix\n",
    "import pickle\n",
    "\n",
    "import glob\n",
    "\n",
    "import time\n",
    "Tstart = time.time() #Timer start"
   ]
  },
  {
   "cell_type": "code",
   "execution_count": 4,
   "metadata": {},
   "outputs": [
    {
     "name": "stdout",
     "output_type": "stream",
     "text": [
      "[PhysicalDevice(name='/physical_device:XLA_GPU:0', device_type='XLA_GPU'), PhysicalDevice(name='/physical_device:XLA_GPU:1', device_type='XLA_GPU')]\n"
     ]
    }
   ],
   "source": [
    "gpus = tf.config.experimental.list_physical_devices(device_type='XLA_GPU')\n",
    "print(gpus)\n",
    "tf.config.experimental.set_visible_devices(devices=gpus, device_type='XLA_GPU')"
   ]
  },
  {
   "cell_type": "code",
   "execution_count": 5,
   "metadata": {},
   "outputs": [],
   "source": [
    "lae_mfn = 'LAE_reconstruction2.0.h5'\n",
    "nfeature = 5 #number of extracted features in each image\n",
    "nCluster = 3 #number of obtained clusters\n",
    "tosavemodel = True\n",
    "savename = 'BGMM_model'"
   ]
  },
  {
   "cell_type": "code",
   "execution_count": 6,
   "metadata": {},
   "outputs": [
    {
     "data": {
      "text/plain": [
       "[array([5282.0195, 5283.235 , 5284.453 , 5285.669 , 5286.8877, 5288.104 ,\n",
       "        5289.323 , 5290.54  , 5291.7573, 5292.9775, 5294.1953, 5295.416 ,\n",
       "        5296.6343, 5297.8555, 5299.074 , 5300.2935, 5301.5156, 5302.7354,\n",
       "        5303.958 , 5305.178 , 5306.4014, 5307.622 , 5308.8433, 5310.0674,\n",
       "        5311.289 , 5312.5137, 5313.736 , 5314.9614, 5316.184 , 5317.407 ,\n",
       "        5318.6333, 5319.857 , 5321.0835, 5322.3076, 5323.5347, 5324.76  ,\n",
       "        5325.9844, 5327.213 , 5328.438 , 5329.667 , 5330.893 , 5332.122 ,\n",
       "        5333.349 , 5334.5757, 5335.806 , 5337.0337, 5338.264 , 5339.492 ,\n",
       "        5340.7236, 5341.952 , 5343.181 , 5344.413 , 5345.6426, 5346.8755,\n",
       "        5348.1055, 5349.339 , 5350.5693, 5351.8003, 5353.034 , 5354.2656,\n",
       "        5355.5005, 5356.7324, 5357.968 , 5359.2   , 5360.433 , 5361.6694,\n",
       "        5362.903 , 5364.139 , 5365.3735, 5366.611 , 5367.845 , 5369.08  ,\n",
       "        5370.3184, 5371.5537, 5372.7925, 5374.0283, 5375.2676, 5376.504 ,\n",
       "        5377.744 , 5378.981 , 5380.2183, 5381.459 , 5382.6973, 5383.9385,\n",
       "        5385.177 , 5386.419 , 5387.6577, 5388.8975, 5390.14  , 5391.38  ,\n",
       "        5392.623 , 5393.864 , 5395.1074, 5396.3486, 5397.5903, 5398.835 ,\n",
       "        5400.0767, 5401.3223, 5402.5645, 5403.8105, 5405.0537, 5406.297 ,\n",
       "        5407.544 , 5408.7876, 5410.035 , 5411.28  , 5412.5273, 5413.7725,\n",
       "        5415.018 , 5416.2666, 5417.5127, 5418.7617, 5420.0083, 5421.2583,\n",
       "        5422.5054, 5423.753 , 5425.0034, 5426.2515, 5427.503 , 5428.7515,\n",
       "        5430.0034, 5431.2524, 5432.502 , 5433.755 , 5435.005 , 5436.258 ,\n",
       "        5437.509 , 5438.7627, 5440.0137, 5441.265 , 5442.52  , 5443.772 ,\n",
       "        5445.0273, 5446.28  , 5447.5356, 5448.789 , 5450.0425, 5451.2993,\n",
       "        5452.553 , 5453.8105, 5455.0654, 5456.323 , 5457.5786, 5458.834 ,\n",
       "        5460.093 , 5461.3486, 5462.6084, 5463.8647, 5465.125 , 5466.3823,\n",
       "        5467.6396, 5468.9004, 5470.1587, 5471.42  , 5472.6787, 5473.9404,\n",
       "        5475.1997, 5476.4624, 5477.722 , 5478.9824, 5480.246 , 5481.507 ,\n",
       "        5482.7705, 5484.032 , 5485.2964, 5486.5586, 5487.821 , 5489.086 ,\n",
       "        5490.349 , 5491.6147, 5492.8784, 5494.145 , 5495.4087, 5496.673 ,\n",
       "        5497.9404, 5499.2056, 5500.4736, 5501.739 , 5503.0073, 5504.2734,\n",
       "        5505.5396, 5506.8096, 5508.076 , 5509.346 , 5510.614 , 5511.8843,\n",
       "        5513.1523, 5514.421 , 5515.6924, 5516.9614, 5518.2334, 5519.503 ,\n",
       "        5520.776 , 5522.046 , 5523.316 , 5524.59  , 5525.861 , 5527.135 ,\n",
       "        5528.4062, 5529.681 , 5530.9536, 5532.2256, 5533.5015, 5534.7744,\n",
       "        5536.051 ], dtype=float32),\n",
       " array([nan, nan, nan, nan, nan, nan, nan, nan, nan, nan, nan, nan, nan,\n",
       "        nan, nan, nan, nan, nan, nan, nan, nan, nan, nan, nan, nan, nan,\n",
       "        nan, nan, nan, nan, nan, nan, nan, nan, nan, nan, nan, nan, nan,\n",
       "        nan, nan, nan, nan, nan, nan, nan, nan, nan, nan, nan, nan, nan,\n",
       "        nan, nan, nan, nan, nan, nan, nan, nan, nan, nan, nan, nan, nan,\n",
       "        nan, nan, nan, nan, nan, nan, nan, nan, nan, nan, nan, nan, nan,\n",
       "        nan, nan, nan, nan, nan, nan, nan, nan, nan, nan, nan, nan, nan,\n",
       "        nan, nan, nan, nan, nan, nan, nan, nan, nan, nan, nan, nan, nan,\n",
       "        nan, nan, nan, nan, nan, nan, nan, nan, nan, nan, nan, nan, nan,\n",
       "        nan, nan, nan, nan, nan, nan, nan, nan, nan, nan, nan, nan, nan,\n",
       "        nan, nan, nan, nan, nan, nan, nan, nan, nan, nan, nan, nan, nan,\n",
       "        nan, nan, nan, nan, nan, nan, nan, nan, nan, nan, nan, nan, nan,\n",
       "        nan, nan, nan, nan, nan, nan, nan, nan, nan, nan, nan, nan, nan,\n",
       "        nan, nan, nan, nan, nan, nan, nan, nan, nan, nan, nan, nan, nan,\n",
       "        nan, nan, nan, nan, nan, nan, nan, nan, nan, nan, nan, nan, nan,\n",
       "        nan, nan, nan, nan, nan, nan, nan, nan, nan, nan], dtype=float32)]"
      ]
     },
     "execution_count": 6,
     "metadata": {},
     "output_type": "execute_result"
    }
   ],
   "source": [
    "#Dataset\n",
    "#norm spectrum\n",
    "kinds = ['boss_cv','boss_da+ms','boss_db','boss_db+ms','boss_dq','boss_dz','fgkm','hotstars','wd','wdsb2','yso','hotstars_m']\n",
    "flux_cv, spectrum_cv = DP.Preprocessing7('/home/njl/ML/optical/'+kinds[0]+'/'+'*.fit')\n",
    "flux_dams, spectrum_dams = DP.Preprocessing7('/home/njl/ML/optical/'+kinds[1]+'/'+'*.fit')\n",
    "flux_db, spectrum_db = DP.Preprocessing7('/home/njl/ML/optical/'+kinds[2]+'/'+'*.fit')\n",
    "\n",
    "#delate bad data\n",
    "n = 0\n",
    "for i in range(len(spectrum_db)):\n",
    "    if len(spectrum_db[i][0]) < 4096:\n",
    "        n = i\n",
    "flux_db.pop(n)\n",
    "spectrum_db.pop(n)"
   ]
  },
  {
   "cell_type": "code",
   "execution_count": 7,
   "metadata": {},
   "outputs": [
    {
     "data": {
      "text/plain": [
       "822"
      ]
     },
     "execution_count": 7,
     "metadata": {},
     "output_type": "execute_result"
    }
   ],
   "source": [
    "len(flux_db)"
   ]
  },
  {
   "cell_type": "code",
   "execution_count": 8,
   "metadata": {},
   "outputs": [
    {
     "name": "stdout",
     "output_type": "stream",
     "text": [
      "(9712, 1, 4552)\n"
     ]
    }
   ],
   "source": [
    "#input spectrum\n",
    "l_list =  flux_cv+flux_dams+flux_db+flux_cv+flux_dams+flux_db+flux_cv+flux_dams+flux_db+flux_cv+flux_dams+flux_db+flux_cv+flux_dams+flux_db+flux_cv+flux_dams+flux_db+flux_cv+flux_dams+flux_db+flux_cv+flux_dams+flux_db\n",
    "sl = []\n",
    "for i in range(len(l_list)):\n",
    "    sl.append(len(l_list[i]))\n",
    "sl_min = np.min(sl)\n",
    "X_train = []\n",
    "for i in range(len(l_list)):\n",
    "    X_train.append(l_list[i][0:sl_min])\n",
    "X_train = np.array(X_train)\n",
    "size = 4552\n",
    "#X_train = l_list\n",
    "X_train = np.stack(X_train)\n",
    "#X_train = X_train.reshape(len(X_train),size,1) #change the shape to NHWC for CAE input\n",
    "X_train = X_train.reshape(len(X_train),1,size)#(1214,1,4552)\n",
    "print(X_train.shape) #print information of training samples"
   ]
  },
  {
   "cell_type": "code",
   "execution_count": 9,
   "metadata": {},
   "outputs": [
    {
     "name": "stdout",
     "output_type": "stream",
     "text": [
      "\n",
      " ## DATE PREPARATION RUNTIME: 40.072006940841675\n",
      "(9712, 32)\n"
     ]
    }
   ],
   "source": [
    "Tprocess0 = time.time()\n",
    "print('\\n', '## DATE PREPARATION RUNTIME:', Tprocess0-Tstart) #Timer\n",
    "\n",
    "## MAIN ##\n",
    "#load CAE model\n",
    "lae_model = load_model(lae_mfn)\n",
    "#Retrieve the ecoder layer\n",
    "Embedding_layer = K.function([lae_model.layers[0].input], [lae_model.layers[5].output])\n",
    "input4bgmm = Embedding_layer([X_train[:]])\n",
    "input4bgmm = np.array(input4bgmm)\n",
    "input4bgmm = input4bgmm[0]\n",
    "print(input4bgmm.shape)\n",
    "\n"
   ]
  },
  {
   "cell_type": "code",
   "execution_count": 10,
   "metadata": {},
   "outputs": [
    {
     "name": "stdout",
     "output_type": "stream",
     "text": [
      "\n",
      " ## CLUSTERING RUNTIME: 3.2849931716918945\n"
     ]
    }
   ],
   "source": [
    "#clustering\n",
    "grouper = BGM(n_components=nCluster)\n",
    "grouper.fit(input4bgmm)\n",
    "if tosavemodel:\n",
    "    #restore the model\n",
    "    pickle.dump(grouper, open(savename, 'wb'))\n",
    "\n",
    "Tprocess1 = time.time()\n",
    "print('\\n', '## CLUSTERING RUNTIME:', Tprocess1-Tprocess0) #Timer end"
   ]
  },
  {
   "cell_type": "code",
   "execution_count": 11,
   "metadata": {},
   "outputs": [],
   "source": [
    "#brief examination\n",
    "y_pred = grouper.predict(input4bgmm)\n",
    "y_max = np.max(y_pred)\n",
    "y_proba = grouper.predict_proba(input4bgmm) #probability of being a certain group"
   ]
  },
  {
   "cell_type": "code",
   "execution_count": 12,
   "metadata": {},
   "outputs": [
    {
     "data": {
      "text/plain": [
       "'SDSSJ091448.49+424033.1_55999-4603-0507'"
      ]
     },
     "execution_count": 12,
     "metadata": {},
     "output_type": "execute_result"
    }
   ],
   "source": [
    "id_train_cv = []\n",
    "id_train_dams = []\n",
    "id_train_db = []\n",
    "for filename in glob.glob(r'/home/njl/ML/optical/boss_cv/*.fit'):\n",
    "    id_train_cv.append(filename[29:-4])\n",
    "for filename in glob.glob(r'/home/njl/ML/optical/boss_da+ms/*.fit'):\n",
    "    id_train_dams.append(filename[29:-4])\n",
    "for filename in glob.glob(r'/home/njl/ML/optical/boss_db/*.fit'):\n",
    "    id_train_db.append(filename[29:-4])\n",
    "id_train_db.pop(n)\n"
   ]
  },
  {
   "cell_type": "code",
   "execution_count": 13,
   "metadata": {},
   "outputs": [
    {
     "data": {
      "text/plain": [
       "9712"
      ]
     },
     "execution_count": 13,
     "metadata": {},
     "output_type": "execute_result"
    }
   ],
   "source": [
    "id_train = id_train_cv+id_train_dams+id_train_db+id_train_cv+id_train_dams+id_train_db+id_train_cv+id_train_dams+id_train_db+id_train_cv+id_train_dams+id_train_db+id_train_cv+id_train_dams+id_train_db+id_train_cv+id_train_dams+id_train_db+id_train_cv+id_train_dams+id_train_db+id_train_cv+id_train_dams+id_train_db\n",
    "len(id_train)"
   ]
  },
  {
   "cell_type": "code",
   "execution_count": 14,
   "metadata": {},
   "outputs": [],
   "source": [
    "id_train = np.array(id_train)"
   ]
  },
  {
   "cell_type": "code",
   "execution_count": 15,
   "metadata": {},
   "outputs": [],
   "source": [
    "group = [ [] for _ in range(y_max+1)]\n",
    "id_group = [ [] for _ in range(y_max+1)]\n",
    "group_noise = [] #not in any group\n",
    "for ix in range(len(y_pred)):\n",
    "    for ig in range(len(group)):\n",
    "        if y_pred[ix] == ig:\n",
    "            tmp = [X_train[ix].reshape(1,4552), y_proba[ix]]\n",
    "            group[ig].append(tmp)\n",
    "            id_group[ig].append(id_train[ix])\n",
    "        elif y_pred[ix] == -1:\n",
    "            tmp = [X_train[ix].reshape(1,4552), y_proba[ix]]\n",
    "            group_noise.append(tmp)\n",
    "        else:\n",
    "            continue"
   ]
  },
  {
   "cell_type": "code",
   "execution_count": 16,
   "metadata": {},
   "outputs": [],
   "source": [
    "y_pred2 = []\n",
    "for i in range(len(y_proba)):\n",
    "    Max = np.where((np.max(y_proba[3])))\n",
    "    a = Max[0][0]\n",
    "    y_pred2.append(a)"
   ]
  },
  {
   "cell_type": "code",
   "execution_count": 17,
   "metadata": {},
   "outputs": [],
   "source": [
    "y_test_cv = []\n",
    "y_test_dams = []\n",
    "y_test_db = []\n",
    "for i in range(len(flux_cv)):\n",
    "    y_test_cv.append(0)\n",
    "for i in range(len(flux_dams)):\n",
    "    y_test_dams.append(1)\n",
    "for i in range(len(flux_db)):\n",
    "    y_test_db.append(2)\n",
    "\n",
    "y_test = y_test_cv+y_test_dams+y_test_db+ y_test_cv+y_test_dams+y_test_db+ y_test_cv+y_test_dams+y_test_db+ y_test_cv+y_test_dams+y_test_db+ y_test_cv+y_test_dams+y_test_db+ y_test_cv+y_test_dams+y_test_db+ y_test_cv+y_test_dams+y_test_db+ y_test_cv+y_test_dams+y_test_db"
   ]
  },
  {
   "cell_type": "code",
   "execution_count": 18,
   "metadata": {},
   "outputs": [],
   "source": [
    "y_pred2 = np.array(y_pred2 )\n",
    "y_test = np.array(y_test)"
   ]
  },
  {
   "cell_type": "code",
   "execution_count": 22,
   "metadata": {},
   "outputs": [
    {
     "name": "stdout",
     "output_type": "stream",
     "text": [
      "accuraccy = 0.222\n",
      "confusion matrix is: \n",
      "[[ 464  880    0]\n",
      " [ 112 1680    0]\n",
      " [2152 4416    8]]\n"
     ]
    }
   ],
   "source": [
    "#confusion matrix\n",
    "print(\"accuraccy = {:.3f}\".format(accuracy_score(y_test, y_pred)))\n",
    "print(\"confusion matrix is: \\n{}\".format(confusion_matrix(y_test, y_pred)))"
   ]
  },
  {
   "cell_type": "code",
   "execution_count": 28,
   "metadata": {},
   "outputs": [
    {
     "data": {
      "image/png": "[encoded data removed]",
      "text/plain": [
       "<Figure size 720x576 with 2 Axes>"
      ]
     },
     "metadata": {
      "needs_background": "light"
     },
     "output_type": "display_data"
    }
   ],
   "source": [
    "import seaborn as sns\n",
    "import pylab as pl\n",
    "pl.figure(figsize = (10, 8))\n",
    "sns.heatmap(confusion_matrix(y_test, y_pred), annot=True, \n",
    "            cmap='YlGnBu');"
   ]
  },
  {
   "cell_type": "code",
   "execution_count": 27,
   "metadata": {},
   "outputs": [
    {
     "name": "stdout",
     "output_type": "stream",
     "text": [
      "Help on function heatmap in module seaborn.matrix:\n",
      "\n",
      "heatmap(data, vmin=None, vmax=None, cmap=None, center=None, robust=False, annot=None, fmt='.2g', annot_kws=None, linewidths=0, linecolor='white', cbar=True, cbar_kws=None, cbar_ax=None, square=False, xticklabels='auto', yticklabels='auto', mask=None, ax=None, **kwargs)\n",
      "    Plot rectangular data as a color-encoded matrix.\n",
      "    \n",
      "    This is an Axes-level function and will draw the heatmap into the\n",
      "    currently-active Axes if none is provided to the ``ax`` argument.  Part of\n",
      "    this Axes space will be taken and used to plot a colormap, unless ``cbar``\n",
      "    is False or a separate Axes is provided to ``cbar_ax``.\n",
      "    \n",
      "    Parameters\n",
      "    ----------\n",
      "    data : rectangular dataset\n",
      "        2D dataset that can be coerced into an ndarray. If a Pandas DataFrame\n",
      "        is provided, the index/column information will be used to label the\n",
      "        columns and rows.\n",
      "    vmin, vmax : floats, optional\n",
      "        Values to anchor the colormap, otherwise they are inferred from the\n",
      "        data and other keyword arguments.\n",
      "    cmap : matplotlib colormap name or object, or list of colors, optional\n",
      "        The mapping from data values to color space. If not provided, the\n",
      "        default will depend on whether ``center`` is set.\n",
      "    center : float, optional\n",
      "        The value at which to center the colormap when plotting divergant data.\n",
      "        Using this parameter will change the default ``cmap`` if none is\n",
      "        specified.\n",
      "    robust : bool, optional\n",
      "        If True and ``vmin`` or ``vmax`` are absent, the colormap range is\n",
      "        computed with robust quantiles instead of the extreme values.\n",
      "    annot : bool or rectangular dataset, optional\n",
      "        If True, write the data value in each cell. If an array-like with the\n",
      "        same shape as ``data``, then use this to annotate the heatmap instead\n",
      "        of the raw data.\n",
      "    fmt : string, optional\n",
      "        String formatting code to use when adding annotations.\n",
      "    annot_kws : dict of key, value mappings, optional\n",
      "        Keyword arguments for ``ax.text`` when ``annot`` is True.\n",
      "    linewidths : float, optional\n",
      "        Width of the lines that will divide each cell.\n",
      "    linecolor : color, optional\n",
      "        Color of the lines that will divide each cell.\n",
      "    cbar : boolean, optional\n",
      "        Whether to draw a colorbar.\n",
      "    cbar_kws : dict of key, value mappings, optional\n",
      "        Keyword arguments for `fig.colorbar`.\n",
      "    cbar_ax : matplotlib Axes, optional\n",
      "        Axes in which to draw the colorbar, otherwise take space from the\n",
      "        main Axes.\n",
      "    square : boolean, optional\n",
      "        If True, set the Axes aspect to \"equal\" so each cell will be\n",
      "        square-shaped.\n",
      "    xticklabels, yticklabels : \"auto\", bool, list-like, or int, optional\n",
      "        If True, plot the column names of the dataframe. If False, don't plot\n",
      "        the column names. If list-like, plot these alternate labels as the\n",
      "        xticklabels. If an integer, use the column names but plot only every\n",
      "        n label. If \"auto\", try to densely plot non-overlapping labels.\n",
      "    mask : boolean array or DataFrame, optional\n",
      "        If passed, data will not be shown in cells where ``mask`` is True.\n",
      "        Cells with missing values are automatically masked.\n",
      "    ax : matplotlib Axes, optional\n",
      "        Axes in which to draw the plot, otherwise use the currently-active\n",
      "        Axes.\n",
      "    kwargs : other keyword arguments\n",
      "        All other keyword arguments are passed to ``ax.pcolormesh``.\n",
      "    \n",
      "    Returns\n",
      "    -------\n",
      "    ax : matplotlib Axes\n",
      "        Axes object with the heatmap.\n",
      "    \n",
      "    See also\n",
      "    --------\n",
      "    clustermap : Plot a matrix using hierachical clustering to arrange the\n",
      "                 rows and columns.\n",
      "    \n",
      "    Examples\n",
      "    --------\n",
      "    \n",
      "    Plot a heatmap for a numpy array:\n",
      "    \n",
      "    .. plot::\n",
      "        :context: close-figs\n",
      "    \n",
      "        >>> import numpy as np; np.random.seed(0)\n",
      "        >>> import seaborn as sns; sns.set()\n",
      "        >>> uniform_data = np.random.rand(10, 12)\n",
      "        >>> ax = sns.heatmap(uniform_data)\n",
      "    \n",
      "    Change the limits of the colormap:\n",
      "    \n",
      "    .. plot::\n",
      "        :context: close-figs\n",
      "    \n",
      "        >>> ax = sns.heatmap(uniform_data, vmin=0, vmax=1)\n",
      "    \n",
      "    Plot a heatmap for data centered on 0 with a diverging colormap:\n",
      "    \n",
      "    .. plot::\n",
      "        :context: close-figs\n",
      "    \n",
      "        >>> normal_data = np.random.randn(10, 12)\n",
      "        >>> ax = sns.heatmap(normal_data, center=0)\n",
      "    \n",
      "    Plot a dataframe with meaningful row and column labels:\n",
      "    \n",
      "    .. plot::\n",
      "        :context: close-figs\n",
      "    \n",
      "        >>> flights = sns.load_dataset(\"flights\")\n",
      "        >>> flights = flights.pivot(\"month\", \"year\", \"passengers\")\n",
      "        >>> ax = sns.heatmap(flights)\n",
      "    \n",
      "    Annotate each cell with the numeric value using integer formatting:\n",
      "    \n",
      "    .. plot::\n",
      "        :context: close-figs\n",
      "    \n",
      "        >>> ax = sns.heatmap(flights, annot=True, fmt=\"d\")\n",
      "    \n",
      "    Add lines between each cell:\n",
      "    \n",
      "    .. plot::\n",
      "        :context: close-figs\n",
      "    \n",
      "        >>> ax = sns.heatmap(flights, linewidths=.5)\n",
      "    \n",
      "    Use a different colormap:\n",
      "    \n",
      "    .. plot::\n",
      "        :context: close-figs\n",
      "    \n",
      "        >>> ax = sns.heatmap(flights, cmap=\"YlGnBu\")\n",
      "    \n",
      "    Center the colormap at a specific value:\n",
      "    \n",
      "    .. plot::\n",
      "        :context: close-figs\n",
      "    \n",
      "        >>> ax = sns.heatmap(flights, center=flights.loc[\"January\", 1955])\n",
      "    \n",
      "    Plot every other column label and don't plot row labels:\n",
      "    \n",
      "    .. plot::\n",
      "        :context: close-figs\n",
      "    \n",
      "        >>> data = np.random.randn(50, 20)\n",
      "        >>> ax = sns.heatmap(data, xticklabels=2, yticklabels=False)\n",
      "    \n",
      "    Don't draw a colorbar:\n",
      "    \n",
      "    .. plot::\n",
      "        :context: close-figs\n",
      "    \n",
      "        >>> ax = sns.heatmap(flights, cbar=False)\n",
      "    \n",
      "    Use different axes for the colorbar:\n",
      "    \n",
      "    .. plot::\n",
      "        :context: close-figs\n",
      "    \n",
      "        >>> grid_kws = {\"height_ratios\": (.9, .05), \"hspace\": .3}\n",
      "        >>> f, (ax, cbar_ax) = plt.subplots(2, gridspec_kw=grid_kws)\n",
      "        >>> ax = sns.heatmap(flights, ax=ax,\n",
      "        ...                  cbar_ax=cbar_ax,\n",
      "        ...                  cbar_kws={\"orientation\": \"horizontal\"})\n",
      "    \n",
      "    Use a mask to plot only part of a matrix\n",
      "    \n",
      "    .. plot::\n",
      "        :context: close-figs\n",
      "    \n",
      "        >>> corr = np.corrcoef(np.random.randn(10, 200))\n",
      "        >>> mask = np.zeros_like(corr)\n",
      "        >>> mask[np.triu_indices_from(mask)] = True\n",
      "        >>> with sns.axes_style(\"white\"):\n",
      "        ...     ax = sns.heatmap(corr, mask=mask, vmax=.3, square=True)\n",
      "\n"
     ]
    }
   ],
   "source": [
    "help(sns.heatmap)"
   ]
  },
  {
   "cell_type": "code",
   "execution_count": null,
   "metadata": {},
   "outputs": [],
   "source": []
  }
 ],
 "metadata": {
  "kernelspec": {
   "display_name": "Python 3",
   "language": "python",
   "name": "python3"
  },
  "language_info": {
   "codemirror_mode": {
    "name": "ipython",
    "version": 3
   },
   "file_extension": ".py",
   "mimetype": "text/x-python",
   "name": "python",
   "nbconvert_exporter": "python",
   "pygments_lexer": "ipython3",
   "version": "3.7.2"
  }
 },
 "nbformat": 4,
 "nbformat_minor": 2
}
